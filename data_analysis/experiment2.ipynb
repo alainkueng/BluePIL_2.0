{
 "cells": [
  {
   "cell_type": "code",
   "execution_count": 6,
   "outputs": [],
   "source": [
    "import os\n",
    "import datetime as dt\n",
    "import pandas as pd\n",
    "import matplotlib.pyplot as plt\n",
    "from matplotlib import patches\n",
    "import numpy as np\n",
    "from math import sqrt\n",
    "\n",
    "import data_analysis.static_positioning as sp\n",
    "import data_analysis.static_positioning_simplified as sps\n",
    "from sink.bp_kalman import BpKalman"
   ],
   "metadata": {
    "collapsed": false,
    "pycharm": {
     "name": "#%%\n"
    }
   }
  },
  {
   "cell_type": "code",
   "execution_count": 7,
   "outputs": [],
   "source": [
    "data_dir = \"data/experiment2\"\n",
    "\n",
    "ip1 = \"192.168.8.21\"\n",
    "ip2 = \"192.168.8.22\"\n",
    "ip3 = \"192.168.8.23\"\n",
    "ip4 = \"192.168.8.24\"\n",
    "\n",
    "exp_0_1 = (\"exp_0_1\", (0, 1))\n",
    "exp_0_2 = (\"exp_0_2\", (0, 2))\n",
    "exp_0_3 = (\"exp_0_3\", (0, 3))\n",
    "exp_0_4 = (\"exp_0_4\", (0, 4))\n",
    "exp_1_0 = (\"exp_1_0\", (1, 0))\n",
    "exp_1_1 = (\"exp_1_1\", (1, 1))\n",
    "exp_1_2 = (\"exp_1_2\", (1, 2))\n",
    "exp_1_3 = (\"exp_1_3\", (1, 3))\n",
    "exp_1_4 = (\"exp_1_4\", (1, 4))\n",
    "exp_1_5 = (\"exp_1_5\", (1, 5))\n",
    "exp_2_0 = (\"exp_2_0\", (2, 0))\n",
    "exp_2_1 = (\"exp_2_1\", (2, 1))\n",
    "exp_2_2 = (\"exp_2_2\", (2, 2))\n",
    "exp_2_3 = (\"exp_2_3\", (2, 3))\n",
    "exp_2_4 = (\"exp_2_4\", (2, 4))\n",
    "exp_2_5 = (\"exp_2_5\", (2, 5))\n",
    "exp_3_0 = (\"exp_3_0\", (3, 0))\n",
    "exp_3_1 = (\"exp_3_1\", (3, 1))\n",
    "exp_3_2 = (\"exp_3_2\", (3, 2))\n",
    "exp_3_3 = (\"exp_3_3\", (3, 3))\n",
    "exp_3_4 = (\"exp_3_4\", (3, 4))\n",
    "exp_3_5 = (\"exp_3_5\", (3, 5))\n",
    "exp_4_0 = (\"exp_4_0\", (4, 0))\n",
    "exp_4_1 = (\"exp_4_1\", (4, 1))\n",
    "exp_4_2 = (\"exp_4_2\", (4, 2))\n",
    "exp_4_3 = (\"exp_4_3\", (4, 3))\n",
    "exp_4_4 = (\"exp_4_4\", (4, 4))\n",
    "exp_4_5 = (\"exp_4_5\", (4, 5))\n",
    "exp_5_1 = (\"exp_5_1\", (5, 1))\n",
    "exp_5_2 = (\"exp_5_2\", (5, 2))\n",
    "exp_5_3 = (\"exp_5_3\", (5, 3))\n",
    "exp_5_4 = (\"exp_5_4\", (5, 4))\n",
    "experiments = [exp_0_1, exp_0_2, exp_0_3, exp_0_4,\n",
    "               exp_1_0, exp_1_1, exp_1_2, exp_1_3, exp_1_4, exp_1_5,\n",
    "               exp_2_0, exp_2_1, exp_2_2, exp_2_3, exp_2_4, exp_2_5,\n",
    "               exp_3_0, exp_3_1, exp_3_2, exp_3_3, exp_3_4, exp_3_5,\n",
    "               exp_4_0, exp_4_1, exp_4_2, exp_4_3, exp_4_4, exp_4_5,\n",
    "               exp_5_1, exp_5_2, exp_5_3, exp_5_4]\n",
    "exp_overheating = \"exp_overheating\"\n",
    "exp_pos = \"exp_pos\"\n",
    "\n",
    "nokia_lap = \"22052d\"\n",
    "\n",
    "d1_coord = (0, 0)\n",
    "d2_coord = (5, 0)\n",
    "d3_coord = (0, 5)\n",
    "d4_coord = (5, 5)\n",
    "\n",
    "coords = (d1_coord, d2_coord, d3_coord, d4_coord)\n",
    "\n",
    "col_x = \"x\"\n",
    "col_y = \"y\"\n",
    "\n",
    "room_lim_x = (0, 5)\n",
    "room_lim_y = (0, 5)\n",
    "\n",
    "plot_padding = 0.5\n",
    "\n",
    "plot_lim_x = (room_lim_x[0] - plot_padding, room_lim_x[1] + plot_padding)\n",
    "plot_lim_y = (room_lim_y[0] - plot_padding, room_lim_y[1] + plot_padding)\n"
   ],
   "metadata": {
    "collapsed": false,
    "pycharm": {
     "name": "#%%\n"
    }
   }
  },
  {
   "cell_type": "code",
   "execution_count": 8,
   "metadata": {
    "collapsed": true
   },
   "outputs": [],
   "source": [
    "def read_dfs(exp_dir):\n",
    "    dir = f'{data_dir}/{exp_dir}'\n",
    "\n",
    "    def read_and_index(ip):\n",
    "        df = pd.read_csv(f'{dir}/{ip}.csv')\n",
    "        df[\"timestamp\"] = df[\"timestamp\"].astype('datetime64[ns]')\n",
    "        df.set_index(\"timestamp\", inplace=True, drop=False)\n",
    "        return df\n",
    "\n",
    "    df1 = read_and_index(ip1)\n",
    "    df2 = read_and_index(ip2)\n",
    "    df3 = read_and_index(ip3)\n",
    "    df4 = read_and_index(ip4)\n",
    "    return df1, df2, df3, df4\n",
    "\n",
    "def plot_results(df, true_point, filter_method, positioning_method, exp_dir):\n",
    "    \n",
    "    results_subdir = f'{data_dir}/results'\n",
    "\n",
    "    ax = df.plot(kind=\"scatter\", x=col_x, y=col_y, xlim=plot_lim_x, ylim=plot_lim_y, alpha=0.3, color=\"#C5D86D\",\n",
    "                 marker=\".\", label=\"Predictions\")\n",
    "    rect1 = patches.Rectangle((room_lim_x[0], room_lim_y[0]), room_lim_x[1], room_lim_y[1], linewidth=1,\n",
    "                              edgecolor='gray', facecolor='none', linestyle=(0, (1, 10)))\n",
    "    ax.add_patch(rect1)\n",
    "    device_coords = np.transpose([d1_coord, d2_coord, d3_coord, d4_coord])\n",
    "    ax.plot(*device_coords, marker=\"^\", color=\"#2E294E\", linestyle='None', label=\"Uberteeth\")\n",
    "\n",
    "    ax.set_title(\"fil: {0}; pos: {1}\".format(filter_method, positioning_method))\n",
    "    ax.set_aspect(\"equal\")\n",
    "\n",
    "    ax.plot(*true_point, marker=\"x\", color=\"#D7263D\", label=\"True Point\", linestyle='None')\n",
    "    x_avg = df[col_x].mean()\n",
    "    y_avg = df[col_y].mean()\n",
    "    ax.plot(x_avg, y_avg, marker=\"D\", color=\"#1B998B\", label=\"Prediction Mean\", linestyle='None')\n",
    "    squared_error = df.apply(lambda row: (row[col_x] - true_point[0])**2 + (row[col_y] - true_point[1])**2, axis=1)\n",
    "    error = squared_error.apply(lambda se: sqrt(se))\n",
    "    me = error.mean()\n",
    "    ax.text(-0.4, -0.4, \"ME: {:.4f}\".format(me))\n",
    "\n",
    "    lgd = plt.legend(bbox_to_anchor=(1, 1), loc='upper left', ncol=1)\n",
    "    file = f'{results_subdir}/{exp_dir}.png'\n",
    "    print(\"saving: {0}\".format(file))\n",
    "    os.makedirs(os.path.dirname(file), exist_ok=True)\n",
    "    plt.savefig(file, bbox_extra_artists=(lgd,), bbox_inches='tight', dpi=300)\n",
    "    plt.close()\n",
    "    # plt.show()\n",
    "\n",
    "def plot_results_simplified(x, y, true_point, exp_dir):\n",
    "    results_subdir = f'{data_dir}/results'\n",
    "    fig, ax = plt.subplots(1,1)\n",
    "\n",
    "    ax.plot(x, y, marker=\"D\", color=\"#1B998B\", label=\"Prediction\", linestyle='None')\n",
    "\n",
    "    plot_padding = 0.5\n",
    "\n",
    "    plot_lim_x = (room_lim_x[0] - plot_padding, room_lim_x[1] + plot_padding)\n",
    "    plot_lim_y = (room_lim_y[0] - plot_padding, room_lim_y[1] + plot_padding)\n",
    "    ax.set_xlim(*plot_lim_x)\n",
    "    ax.set_ylim(*plot_lim_y)\n",
    "\n",
    "    rect1 = patches.Rectangle((room_lim_x[0], room_lim_y[0]), room_lim_x[1], room_lim_y[1], linewidth=1,\n",
    "                              edgecolor='gray', facecolor='none', linestyle=(0, (1, 10)))\n",
    "    ax.add_patch(rect1)\n",
    "    device_coords = np.transpose([d1_coord, d2_coord, d3_coord, d4_coord])\n",
    "    ax.plot(*device_coords, marker=\"^\", color=\"#2E294E\", linestyle='None', label=\"Uberteeth\")\n",
    "\n",
    "    me = sqrt((x - true_point[0])**2 + (y - true_point[1])**2)\n",
    "    ax.text(-0.4, -0.4, \"ME: {:.4f}\".format(me))\n",
    "    ax.set_aspect(\"equal\")\n",
    "\n",
    "    ax.plot(*true_point, marker=\"x\", color=\"#D7263D\", label=\"True Point\", linestyle='None')\n",
    "\n",
    "    lgd = plt.legend(bbox_to_anchor=(1, 1), loc='upper left', ncol=1)\n",
    "    file = f'{results_subdir}/simplified_{exp_dir}.png'\n",
    "    print(\"saving: {0}\".format(file))\n",
    "    os.makedirs(os.path.dirname(file), exist_ok=True)\n",
    "    plt.savefig(file, bbox_extra_artists=(lgd,), bbox_inches='tight', dpi=300)\n",
    "    plt.close()\n",
    "    # plt.show()\n",
    "\n",
    "def read_position_plot(exp_dir, true_point):\n",
    "    print()\n",
    "    print(f\"positioning for {exp_dir}\")\n",
    "    filter_method = \"max\"\n",
    "    positioning_method = \"nlls\"\n",
    "    dfs = read_dfs(exp_dir)\n",
    "    for idx, df in enumerate(dfs):\n",
    "        print(f'df{idx}: {len(df)} rows')\n",
    "\n",
    "    avg_len = np.mean([len(df) for df in dfs])\n",
    "    print(f'average length: {avg_len}')\n",
    "\n",
    "    res = sp.position_dataset_with_methods(nokia_lap, filter_method, positioning_method, (2.5, 2.5), *dfs, *coords)\n",
    "    print(f'shape of res: {res.shape}')\n",
    "    x_avg = res[col_x].mean()\n",
    "    y_avg = res[col_y].mean()\n",
    "    me = sqrt((x_avg - true_point[0])**2 + (y_avg - true_point[1])**2)\n",
    "    print(f'true: {true_point}; estimated: ({x_avg}, {y_avg}); me: {me}')\n",
    "    plot_results(res, true_point, filter_method, positioning_method, exp_dir)\n",
    "\n",
    "def read_position_plot_simplified(exp_dir, true_point):\n",
    "    dfs = read_dfs(exp_dir)\n",
    "\n",
    "    for idx, df in enumerate(dfs):\n",
    "        print(f'df{idx}: {len(df)} rows')\n",
    "\n",
    "    avg_len = np.mean([len(df) for df in dfs])\n",
    "    print(f'average length: {avg_len}')\n",
    "    x, y = sps.position_dataset_with_methods(nokia_lap, *dfs, *coords)\n",
    "    print(f'true: {true_point}; estimated: ({x}, {y})')\n",
    "    plot_results_simplified(x, y, true_point, exp_dir)"
   ]
  },
  {
   "cell_type": "code",
   "execution_count": 5,
   "outputs": [
    {
     "name": "stdout",
     "output_type": "stream",
     "text": [
      "\n",
      "positioning for exp_0_1\n",
      "df0: 52 rows\n",
      "df1: 16 rows\n",
      "df2: 12 rows\n",
      "df3: 9 rows\n",
      "average length: 22.25\n",
      "shape of res: (0, 5)\n",
      "\n",
      "positioning for exp_0_2\n",
      "df0: 32 rows\n",
      "df1: 20 rows\n",
      "df2: 19 rows\n",
      "df3: 10 rows\n",
      "average length: 20.25\n",
      "shape of res: (25, 8)\n",
      "true: (0, 2); estimated: (2.2027917139200976, 2.426056842904113); me: 2.2436166714259507\n",
      "saving: data/lenz_rep/results/exp_0_2.png\n",
      "\n",
      "positioning for exp_0_3\n",
      "df0: 42 rows\n",
      "df1: 13 rows\n",
      "df2: 21 rows\n",
      "df3: 13 rows\n",
      "average length: 22.25\n",
      "shape of res: (0, 5)\n",
      "\n",
      "positioning for exp_0_4\n",
      "df0: 58 rows\n",
      "df1: 23 rows\n",
      "df2: 18 rows\n",
      "df3: 13 rows\n",
      "average length: 28.0\n",
      "shape of res: (0, 5)\n",
      "\n",
      "positioning for exp_1_0\n",
      "df0: 80 rows\n",
      "df1: 35 rows\n",
      "df2: 16 rows\n",
      "df3: 9 rows\n",
      "average length: 35.0\n",
      "shape of res: (13, 8)\n",
      "true: (1, 0); estimated: (1.438272385617471, 1.681050605495052); me: 1.7372431672710964\n",
      "saving: data/lenz_rep/results/exp_1_0.png\n",
      "\n",
      "positioning for exp_1_1\n",
      "df0: 68 rows\n",
      "df1: 47 rows\n",
      "df2: 37 rows\n",
      "df3: 9 rows\n",
      "average length: 40.25\n",
      "shape of res: (0, 5)\n",
      "\n",
      "positioning for exp_1_2\n",
      "df0: 37 rows\n",
      "df1: 48 rows\n",
      "df2: 35 rows\n",
      "df3: 24 rows\n",
      "average length: 36.0\n",
      "shape of res: (36, 8)\n",
      "true: (1, 2); estimated: (1.7199164632991695, 1.8884699862936865); me: 0.7285043981243455\n",
      "saving: data/lenz_rep/results/exp_1_2.png\n",
      "\n",
      "positioning for exp_1_3\n",
      "df0: 54 rows\n",
      "df1: 22 rows\n",
      "df2: 24 rows\n",
      "df3: 8 rows\n",
      "average length: 27.0\n",
      "shape of res: (0, 5)\n",
      "\n",
      "positioning for exp_1_4\n",
      "df0: 30 rows\n",
      "df1: 10 rows\n",
      "df2: 19 rows\n",
      "df3: 15 rows\n",
      "average length: 18.5\n",
      "shape of res: (0, 5)\n",
      "\n",
      "positioning for exp_1_5\n",
      "df0: 33 rows\n",
      "df1: 18 rows\n",
      "df2: 16 rows\n",
      "df3: 16 rows\n",
      "average length: 20.75\n",
      "shape of res: (0, 5)\n",
      "\n",
      "positioning for exp_2_0\n",
      "df0: 31 rows\n",
      "df1: 10 rows\n",
      "df2: 14 rows\n",
      "df3: 8 rows\n",
      "average length: 15.75\n",
      "shape of res: (0, 5)\n",
      "\n",
      "positioning for exp_2_1\n",
      "df0: 27 rows\n",
      "df1: 16 rows\n",
      "df2: 10 rows\n",
      "df3: 13 rows\n",
      "average length: 16.5\n",
      "shape of res: (0, 5)\n",
      "\n",
      "positioning for exp_2_2\n",
      "df0: 29 rows\n",
      "df1: 14 rows\n",
      "df2: 12 rows\n",
      "df3: 10 rows\n",
      "average length: 16.25\n",
      "shape of res: (0, 5)\n",
      "\n",
      "positioning for exp_2_3\n",
      "df0: 37 rows\n",
      "df1: 30 rows\n",
      "df2: 22 rows\n",
      "df3: 13 rows\n",
      "average length: 25.5\n",
      "shape of res: (0, 5)\n",
      "\n",
      "positioning for exp_2_4\n",
      "df0: 56 rows\n",
      "df1: 26 rows\n",
      "df2: 23 rows\n",
      "df3: 15 rows\n",
      "average length: 30.0\n",
      "shape of res: (41, 8)\n",
      "true: (2, 4); estimated: (3.231874270050781, 4.618972107617615); me: 1.3786372573022017\n",
      "saving: data/lenz_rep/results/exp_2_4.png\n",
      "\n",
      "positioning for exp_2_5\n",
      "df0: 22 rows\n",
      "df1: 31 rows\n",
      "df2: 23 rows\n",
      "df3: 20 rows\n",
      "average length: 24.0\n",
      "shape of res: (0, 5)\n",
      "\n",
      "positioning for exp_3_0\n",
      "df0: 23 rows\n",
      "df1: 10 rows\n",
      "df2: 7 rows\n",
      "df3: 12 rows\n",
      "average length: 13.0\n",
      "shape of res: (0, 5)\n",
      "\n",
      "positioning for exp_3_1\n",
      "df0: 24 rows\n",
      "df1: 17 rows\n",
      "df2: 16 rows\n",
      "df3: 12 rows\n",
      "average length: 17.25\n",
      "shape of res: (39, 8)\n",
      "true: (3, 1); estimated: (1.2434315429643363, 1.7375740700182813); me: 1.905137331799465\n",
      "saving: data/lenz_rep/results/exp_3_1.png\n",
      "\n",
      "positioning for exp_3_2\n",
      "df0: 51 rows\n",
      "df1: 14 rows\n",
      "df2: 10 rows\n",
      "df3: 5 rows\n",
      "average length: 20.0\n",
      "shape of res: (0, 5)\n",
      "\n",
      "positioning for exp_3_3\n",
      "df0: 16 rows\n",
      "df1: 38 rows\n",
      "df2: 14 rows\n",
      "df3: 6 rows\n",
      "average length: 18.5\n",
      "shape of res: (0, 5)\n",
      "\n",
      "positioning for exp_3_4\n",
      "df0: 24 rows\n",
      "df1: 24 rows\n",
      "df2: 17 rows\n",
      "df3: 15 rows\n",
      "average length: 20.0\n",
      "shape of res: (3, 8)\n",
      "true: (3, 4); estimated: (1.9347143893462595, 1.9366273645459262); me: 2.322141267237332\n",
      "saving: data/lenz_rep/results/exp_3_4.png\n",
      "\n",
      "positioning for exp_3_5\n",
      "df0: 21 rows\n",
      "df1: 9 rows\n",
      "df2: 12 rows\n",
      "df3: 14 rows\n",
      "average length: 14.0\n",
      "shape of res: (0, 5)\n",
      "\n",
      "positioning for exp_4_0\n",
      "df0: 22 rows\n",
      "df1: 10 rows\n",
      "df2: 6 rows\n",
      "df3: 7 rows\n",
      "average length: 11.25\n",
      "shape of res: (0, 5)\n",
      "\n",
      "positioning for exp_4_1\n",
      "df0: 22 rows\n",
      "df1: 21 rows\n",
      "df2: 25 rows\n",
      "df3: 20 rows\n",
      "average length: 22.0\n",
      "shape of res: (43, 8)\n",
      "true: (4, 1); estimated: (4.428734987621442, 2.2545249601044417); me: 1.3257626352917815\n",
      "saving: data/lenz_rep/results/exp_4_1.png\n",
      "\n",
      "positioning for exp_4_2\n",
      "df0: 22 rows\n",
      "df1: 18 rows\n",
      "df2: 12 rows\n",
      "df3: 25 rows\n",
      "average length: 19.25\n",
      "shape of res: (22, 8)\n",
      "true: (4, 2); estimated: (3.1931437562421334, 1.8762293348553505); me: 0.816294172245155\n",
      "saving: data/lenz_rep/results/exp_4_2.png\n",
      "\n",
      "positioning for exp_4_3\n",
      "df0: 20 rows\n",
      "df1: 23 rows\n",
      "df2: 22 rows\n",
      "df3: 21 rows\n",
      "average length: 21.5\n",
      "shape of res: (27, 8)\n",
      "true: (4, 3); estimated: (4.377906463426162, 3.073415605966817); me: 0.384971617523609\n",
      "saving: data/lenz_rep/results/exp_4_3.png\n",
      "\n",
      "positioning for exp_4_4\n",
      "df0: 34 rows\n",
      "df1: 24 rows\n",
      "df2: 29 rows\n",
      "df3: 20 rows\n",
      "average length: 26.75\n",
      "shape of res: (30, 8)\n",
      "true: (4, 4); estimated: (4.806037475274264, 2.6289360748937436); me: 1.5904441826968605\n",
      "saving: data/lenz_rep/results/exp_4_4.png\n",
      "\n",
      "positioning for exp_4_5\n",
      "df0: 44 rows\n",
      "df1: 20 rows\n",
      "df2: 11 rows\n",
      "df3: 17 rows\n",
      "average length: 23.0\n",
      "shape of res: (9, 8)\n",
      "true: (4, 5); estimated: (4.081424468987701, 3.0595501742195115); me: 1.9421574268121153\n",
      "saving: data/lenz_rep/results/exp_4_5.png\n",
      "\n",
      "positioning for exp_5_1\n",
      "df0: 32 rows\n",
      "df1: 23 rows\n",
      "df2: 34 rows\n",
      "df3: 17 rows\n",
      "average length: 26.5\n",
      "shape of res: (2, 8)\n",
      "true: (5, 1); estimated: (1.9747051125970945, 1.8853605005888632); me: 3.1521853327095353\n",
      "saving: data/lenz_rep/results/exp_5_1.png\n",
      "\n",
      "positioning for exp_5_2\n",
      "df0: 51 rows\n",
      "df1: 16 rows\n",
      "df2: 52 rows\n",
      "df3: 20 rows\n",
      "average length: 34.75\n",
      "shape of res: (0, 5)\n",
      "\n",
      "positioning for exp_5_3\n",
      "df0: 53 rows\n",
      "df1: 32 rows\n",
      "df2: 7 rows\n",
      "df3: 5 rows\n",
      "average length: 24.25\n",
      "shape of res: (0, 5)\n",
      "\n",
      "positioning for exp_5_4\n",
      "df0: 50 rows\n",
      "df1: 25 rows\n",
      "df2: 15 rows\n",
      "df3: 10 rows\n",
      "average length: 25.0\n",
      "shape of res: (12, 8)\n",
      "true: (5, 4); estimated: (2.291951380949556, 2.78716235382486); me: 2.967238190493084\n",
      "saving: data/lenz_rep/results/exp_5_4.png\n"
     ]
    }
   ],
   "source": [
    "for exp in experiments:\n",
    "    try:\n",
    "        read_position_plot(*exp)\n",
    "    except:\n",
    "        pass;\n"
   ],
   "metadata": {
    "collapsed": false,
    "pycharm": {
     "name": "#%%\n"
    }
   }
  },
  {
   "cell_type": "markdown",
   "source": [
    "## Now for the dynamic positioning experiment"
   ],
   "metadata": {
    "collapsed": false,
    "pycharm": {
     "name": "#%% md\n"
    }
   }
  },
  {
   "cell_type": "code",
   "execution_count": 9,
   "outputs": [],
   "source": [
    "pos1 = (1,1)\n",
    "pos2 = (1,4)\n",
    "pos3 = (4,1)\n",
    "pos4 = (4,4)\n",
    "pos5 = (2.5,2.5)\n",
    "\n",
    "i1 = (dt.datetime(2020, 7, 13, 18, 4, 30), dt.datetime(2020, 7, 13, 18, 6, 30))\n",
    "i2 = (dt.datetime(2020, 7, 13, 18, 7, 30), dt.datetime(2020, 7, 13, 18, 9, 30))\n",
    "i3 = (dt.datetime(2020, 7, 13, 18, 10, 30), dt.datetime(2020, 7, 13, 18, 12, 30))\n",
    "i4 = (dt.datetime(2020, 7, 13, 18, 13, 30), dt.datetime(2020, 7, 13, 18, 15, 30))\n",
    "i5 = (dt.datetime(2020, 7, 13, 18, 16, 30), dt.datetime(2020, 7, 13, 18, 18, 30))"
   ],
   "metadata": {
    "collapsed": false,
    "pycharm": {
     "name": "#%%\n"
    }
   }
  },
  {
   "cell_type": "code",
   "execution_count": 10,
   "outputs": [],
   "source": [
    "def read_position_df():\n",
    "    df = pd.read_csv(f'{data_dir}/{exp_pos}/positions.csv')\n",
    "    df[\"timestamp\"] = df[\"timestamp\"].astype('datetime64[ns]')\n",
    "    df.set_index(\"timestamp\", inplace=True, drop=False)\n",
    "    df.sort_index(inplace=True)\n",
    "    return df\n",
    "\n",
    "def filter_df_w_interval(df, i):\n",
    "    filter = (df[\"timestamp\"] > i[0]) & (df[\"timestamp\"] < i[1])\n",
    "    return df[filter]"
   ],
   "metadata": {
    "collapsed": false,
    "pycharm": {
     "name": "#%%\n"
    }
   }
  },
  {
   "cell_type": "code",
   "execution_count": 15,
   "outputs": [],
   "source": [
    "def kalman_filter_df(df):\n",
    "    row1 = df.iloc()[0]\n",
    "    x = row1[col_x]\n",
    "    y = row1[col_y]\n",
    "    print((x, 0, y, 0))\n",
    "    kalman_filter = BpKalman(np.array([x, 0, y, 0]))\n",
    "\n",
    "    df[\"t-1\"] = df[\"timestamp\"].shift(1)\n",
    "    df[\"dt\"] = (df[\"timestamp\"] - df[\"t-1\"]).apply(lambda x: x.total_seconds())\n",
    "\n",
    "    df_from_1 = df[1:]\n",
    "\n",
    "    def filter(row):\n",
    "        res = kalman_filter.predict_update(row[col_x], row[col_y], row[\"dt\"])\n",
    "        row[col_x] = res[0]\n",
    "        row[col_y] = res[2]\n",
    "        return row\n",
    "\n",
    "    return df_from_1.apply(filter, axis=1)\n",
    "\n",
    "def plot_results_pos(df, true_point, exp_dir):\n",
    "\n",
    "    results_subdir = f'{data_dir}/results'\n",
    "\n",
    "    # ax = df.plot(kind=\"scatter\", x=col_x, y=col_y, xlim=plot_lim_x, ylim=plot_lim_y, alpha=0.3, color=\"#C5D86D\",\n",
    "    ax = df.plot(kind=\"scatter\", legend=None, x=col_x, y=col_y, xlim=plot_lim_x, ylim=plot_lim_y, alpha=0.3, color=\"#C5D86D\",\n",
    "                 marker=\".\", label=\"Predictions\")\n",
    "    rect1 = patches.Rectangle((room_lim_x[0], room_lim_y[0]), room_lim_x[1], room_lim_y[1], linewidth=1,\n",
    "                              edgecolor='gray', facecolor='none', linestyle=(0, (1, 10)))\n",
    "    ax.add_patch(rect1)\n",
    "    device_coords = np.transpose([d1_coord, d2_coord, d3_coord, d4_coord])\n",
    "    ax.plot(*device_coords, marker=\"^\", color=\"#2E294E\", linestyle='None', label=\"Uberteeth\")\n",
    "\n",
    "    ax.set_aspect(\"equal\")\n",
    "\n",
    "    ax.plot(*true_point, marker=\"x\", color=\"#D7263D\", label=\"True Point\", linestyle='None')\n",
    "    x_avg = df[col_x].mean()\n",
    "    y_avg = df[col_y].mean()\n",
    "    ax.plot(x_avg, y_avg, marker=\"D\", color=\"#1B998B\", label=\"Prediction Mean\", linestyle='None')\n",
    "    squared_error = df.apply(lambda row: (row[col_x] - true_point[0])**2 + (row[col_y] - true_point[1])**2, axis=1)\n",
    "    error = squared_error.apply(lambda se: sqrt(se))\n",
    "    me = error.mean()\n",
    "    ax.text(-0.4, -0.4, \"ME: {:.4f}\".format(me))\n",
    "\n",
    "    print(f'shape of res: {df.shape}')\n",
    "    print(f'true: {true_point}; estimated: ({x_avg}, {y_avg}); me: {me}')\n",
    "\n",
    "    # lgd = plt.legend(bbox_to_anchor=(1, 1), loc='upper left', ncol=1)\n",
    "    # file = f'{results_subdir}/{exp_dir}.png'\n",
    "    file = f'{results_subdir}/{exp_dir}_cropped.png'\n",
    "    print(\"saving: {0}\".format(file))\n",
    "    os.makedirs(os.path.dirname(file), exist_ok=True)\n",
    "    # plt.savefig(file, bbox_extra_artists=(lgd,), bbox_inches='tight', dpi=300)\n",
    "    plt.savefig(file, bbox_inches='tight', dpi=300)\n",
    "    plt.close()\n",
    "    # plt.show()"
   ],
   "metadata": {
    "collapsed": false,
    "pycharm": {
     "name": "#%%\n"
    }
   }
  },
  {
   "cell_type": "code",
   "execution_count": 16,
   "outputs": [
    {
     "name": "stdout",
     "output_type": "stream",
     "text": [
      "(1.6754422402697295, 0, 3.1086387187938382, 0)\n"
     ]
    }
   ],
   "source": [
    "pos_df = read_position_df()\n",
    "pos_df_filtered = kalman_filter_df(pos_df)\n"
   ],
   "metadata": {
    "collapsed": false,
    "pycharm": {
     "name": "#%%\n"
    }
   }
  },
  {
   "cell_type": "code",
   "execution_count": 17,
   "outputs": [],
   "source": [
    "df1 = filter_df_w_interval(pos_df_filtered, i1)\n",
    "df2 = filter_df_w_interval(pos_df_filtered, i2)\n",
    "df3 = filter_df_w_interval(pos_df_filtered, i3)\n",
    "df4 = filter_df_w_interval(pos_df_filtered, i4)\n",
    "df5 = filter_df_w_interval(pos_df_filtered, i5)\n"
   ],
   "metadata": {
    "collapsed": false,
    "pycharm": {
     "name": "#%%\n"
    }
   }
  },
  {
   "cell_type": "code",
   "execution_count": 18,
   "outputs": [
    {
     "name": "stdout",
     "output_type": "stream",
     "text": [
      "shape of res: (36, 6)\n",
      "true: (1, 1); estimated: (0.9885039521175754, 1.9416855145366878); me: 1.2632661674770853\n",
      "saving: data/lenz_rep/results/exp_pos_1_cropped.png\n",
      "shape of res: (33, 6)\n",
      "true: (1, 4); estimated: (1.1598478536917176, 3.107579870585937); me: 1.2548045980085933\n",
      "saving: data/lenz_rep/results/exp_pos_2_cropped.png\n",
      "shape of res: (26, 6)\n",
      "true: (4, 1); estimated: (3.4649054061330418, 3.1884568229853607); me: 2.320138330143203\n",
      "saving: data/lenz_rep/results/exp_pos_3_cropped.png\n",
      "shape of res: (26, 6)\n",
      "true: (4, 4); estimated: (3.227402256338874, 3.766032356959373); me: 1.0651468568682283\n",
      "saving: data/lenz_rep/results/exp_pos_4_cropped.png\n",
      "shape of res: (22, 6)\n",
      "true: (2.5, 2.5); estimated: (3.2566795494648075, 1.7028514020623766); me: 1.1293575648732588\n",
      "saving: data/lenz_rep/results/exp_pos_5_cropped.png\n"
     ]
    }
   ],
   "source": [
    "plot_results_pos(df1, pos1, \"exp_pos_1\")\n",
    "plot_results_pos(df2, pos2, \"exp_pos_2\")\n",
    "plot_results_pos(df3, pos3, \"exp_pos_3\")\n",
    "plot_results_pos(df4, pos4, \"exp_pos_4\")\n",
    "plot_results_pos(df5, pos5, \"exp_pos_5\")\n"
   ],
   "metadata": {
    "collapsed": false,
    "pycharm": {
     "name": "#%%\n"
    }
   }
  },
  {
   "cell_type": "code",
   "execution_count": 19,
   "outputs": [],
   "source": [
    "def plot_results_pos_overall(df): # , exp_dir):\n",
    "\n",
    "    # results_subdir = f'{data_dir}/results'\n",
    "\n",
    "    ax = df.plot(kind=\"line\", x=col_x, y=col_y, xlim=plot_lim_x, ylim=plot_lim_y, alpha=0.3, color=\"#C5D86D\",\n",
    "                 marker=\".\", label=\"Predictions\")\n",
    "    rect1 = patches.Rectangle((room_lim_x[0], room_lim_y[0]), room_lim_x[1], room_lim_y[1], linewidth=1,\n",
    "                              edgecolor='gray', facecolor='none', linestyle=(0, (1, 10)))\n",
    "    ax.add_patch(rect1)\n",
    "    device_coords = np.transpose([d1_coord, d2_coord, d3_coord, d4_coord])\n",
    "    ax.plot(*device_coords, marker=\"^\", color=\"#2E294E\", linestyle='None', label=\"Uberteeth\")\n",
    "\n",
    "    ax.set_aspect(\"equal\")\n",
    "\n",
    "    # ax.plot(*true_point, marker=\"x\", color=\"#D7263D\", label=\"True Point\", linestyle='None')\n",
    "    # x_avg = df[col_x].mean()\n",
    "    # y_avg = df[col_y].mean()\n",
    "    # ax.plot(x_avg, y_avg, marker=\"D\", color=\"#1B998B\", label=\"Prediction Mean\", linestyle='None')\n",
    "    # squared_error = df.apply(lambda row: (row[col_x] - true_point[0])**2 + (row[col_y] - true_point[1])**2, axis=1)\n",
    "    # error = squared_error.apply(lambda se: sqrt(se))\n",
    "    # me = error.mean()\n",
    "    # ax.text(-0.4, -0.4, \"ME: {:.4f}\".format(me))\n",
    "\n",
    "    # lgd = plt.legend(bbox_to_anchor=(1, 1), loc='upper left', ncol=1)\n",
    "    # file = f'{results_subdir}/{exp_dir}.png'\n",
    "    # print(\"saving: {0}\".format(file))\n",
    "    # os.makedirs(os.path.dirname(file), exist_ok=True)\n",
    "    # plt.savefig(file, bbox_extra_artists=(lgd,), bbox_inches='tight', dpi=300)\n",
    "    # plt.close()\n",
    "    plt.show()\n",
    "\n"
   ],
   "metadata": {
    "collapsed": false,
    "pycharm": {
     "name": "#%%\n"
    }
   }
  },
  {
   "cell_type": "code",
   "execution_count": 20,
   "outputs": [
    {
     "name": "stdout",
     "output_type": "stream",
     "text": [
      "(1.6754422402697295, 0, 3.1086387187938382, 0)\n"
     ]
    },
    {
     "data": {
      "text/plain": "<Figure size 432x288 with 1 Axes>",
      "image/png": "[encoded data removed]"
     },
     "metadata": {
      "needs_background": "light"
     },
     "output_type": "display_data"
    }
   ],
   "source": [
    "pos_df_filtered = kalman_filter_df(pos_df)\n",
    "\n",
    "plot_results_pos_overall(pos_df_filtered)"
   ],
   "metadata": {
    "collapsed": false,
    "pycharm": {
     "name": "#%%\n"
    }
   }
  },
  {
   "cell_type": "code",
   "execution_count": 16,
   "outputs": [
    {
     "name": "stdout",
     "output_type": "stream",
     "text": [
      "saving file data/lenz_rep/results/measurements.png\n"
     ]
    },
    {
     "data": {
      "text/plain": "<Figure size 432x288 with 1 Axes>",
      "image/png": "[encoded data removed]"
     },
     "metadata": {
      "needs_background": "light"
     },
     "output_type": "display_data"
    }
   ],
   "source": [
    "plot_padding = 0.5\n",
    "\n",
    "ax = plt.subplot(xlim=plot_lim_x, ylim=plot_lim_y)\n",
    "\n",
    "ax.set_aspect(\"equal\")\n",
    "\n",
    "rect1 = patches.Rectangle((room_lim_x[0], room_lim_y[0]), room_lim_x[1], room_lim_y[1], linewidth=1,\n",
    "                              edgecolor='gray', facecolor='none', linestyle=(0, (1, 10)))\n",
    "ax.add_patch(rect1)\n",
    "\n",
    "device_coords = np.transpose([d1_coord, d2_coord, d3_coord, d4_coord])\n",
    "ax.plot(*device_coords, marker=\"^\", color=\"#2E294E\", linestyle='None', label=\"Uberteeth\")\n",
    "\n",
    "measurement_points = np.transpose(list(map(lambda x: x[1], experiments)))\n",
    "\n",
    "ax.plot(*measurement_points, marker=\"x\", color=\"#D7263D\", label=\"Static Measurements\", linestyle='None')\n",
    "lgd = plt.legend(bbox_to_anchor=(1, 1), loc='upper left', ncol=1)\n",
    "file = f\"data/lenz_rep/results/measurements_static.png\"\n",
    "print(f'saving file {file}')\n",
    "plt.savefig(file, bbox_inches='tight', dpi=300)\n",
    "plt.show()\n"
   ],
   "metadata": {
    "collapsed": false,
    "pycharm": {
     "name": "#%%\n"
    }
   }
  },
  {
   "cell_type": "code",
   "execution_count": 5,
   "outputs": [
    {
     "name": "stdout",
     "output_type": "stream",
     "text": [
      "saving file data/lenz_rep/results/measurements_dynamic.png\n"
     ]
    },
    {
     "data": {
      "text/plain": "<Figure size 432x288 with 1 Axes>",
      "image/png": "[encoded data removed]"
     },
     "metadata": {
      "needs_background": "light"
     },
     "output_type": "display_data"
    }
   ],
   "source": [
    "plot_padding = 0.5\n",
    "\n",
    "ax = plt.subplot(xlim=plot_lim_x, ylim=plot_lim_y)\n",
    "\n",
    "ax.set_aspect(\"equal\")\n",
    "\n",
    "rect1 = patches.Rectangle((room_lim_x[0], room_lim_y[0]), room_lim_x[1], room_lim_y[1], linewidth=1,\n",
    "                              edgecolor='gray', facecolor='none', linestyle=(0, (1, 10)))\n",
    "ax.add_patch(rect1)\n",
    "\n",
    "device_coords = np.transpose([d1_coord, d2_coord, d3_coord, d4_coord])\n",
    "ax.plot(*device_coords, marker=\"^\", color=\"#2E294E\", linestyle='None', label=\"Uberteeth\")\n",
    "\n",
    "measurement_points = np.transpose([pos1, pos2, pos3, pos4, pos5])\n",
    "\n",
    "ax.plot(*measurement_points, marker=\"x\", color=\"#D7263D\", label=\"Dynamic Measurements\", linestyle='None')\n",
    "lgd = plt.legend(bbox_to_anchor=(1, 1), loc='upper left', ncol=1)\n",
    "file = f\"data/lenz_rep/results/measurements_dynamic.png\"\n",
    "print(f'saving file {file}')\n",
    "plt.savefig(file, bbox_inches='tight', dpi=300)\n",
    "plt.show()\n"
   ],
   "metadata": {
    "collapsed": false,
    "pycharm": {
     "name": "#%%\n"
    }
   }
  },
  {
   "cell_type": "code",
   "execution_count": null,
   "outputs": [],
   "source": [],
   "metadata": {
    "collapsed": false,
    "pycharm": {
     "name": "#%%\n"
    }
   }
  },
  {
   "cell_type": "code",
   "execution_count": 25,
   "outputs": [],
   "source": [
    "df1_2 = filter_df_w_interval(pos_df_filtered, (i1[1], i2[0]))\n",
    "df2_3 = filter_df_w_interval(pos_df_filtered, (i2[1], i3[0]))\n",
    "df3_4 = filter_df_w_interval(pos_df_filtered, (i3[1], i4[0]))\n",
    "df4_5 = filter_df_w_interval(pos_df_filtered, (i4[1], i5[0]))\n",
    "\n"
   ],
   "metadata": {
    "collapsed": false,
    "pycharm": {
     "name": "#%%\n"
    }
   }
  },
  {
   "cell_type": "code",
   "execution_count": 26,
   "outputs": [
    {
     "data": {
      "text/plain": "<Figure size 432x288 with 1 Axes>",
      "image/png": "[encoded data removed]"
     },
     "metadata": {
      "needs_background": "light"
     },
     "output_type": "display_data"
    },
    {
     "data": {
      "text/plain": "<Figure size 432x288 with 1 Axes>",
      "image/png": "[encoded data removed]"
     },
     "metadata": {
      "needs_background": "light"
     },
     "output_type": "display_data"
    },
    {
     "data": {
      "text/plain": "<Figure size 432x288 with 1 Axes>",
      "image/png": "[encoded data removed]"
     },
     "metadata": {
      "needs_background": "light"
     },
     "output_type": "display_data"
    },
    {
     "data": {
      "text/plain": "<Figure size 432x288 with 1 Axes>",
      "image/png": "[encoded data removed]"
     },
     "metadata": {
      "needs_background": "light"
     },
     "output_type": "display_data"
    }
   ],
   "source": [
    "plot_results_pos_overall(df1_2)\n",
    "plot_results_pos_overall(df2_3)\n",
    "plot_results_pos_overall(df3_4)\n",
    "plot_results_pos_overall(df4_5)\n"
   ],
   "metadata": {
    "collapsed": false,
    "pycharm": {
     "name": "#%%\n"
    }
   }
  },
  {
   "cell_type": "code",
   "execution_count": 10,
   "outputs": [
    {
     "data": {
      "text/plain": "(36, 6)"
     },
     "execution_count": 10,
     "metadata": {},
     "output_type": "execute_result"
    }
   ],
   "source": [
    "df1.shape\n"
   ],
   "metadata": {
    "collapsed": false,
    "pycharm": {
     "name": "#%%\n"
    }
   }
  },
  {
   "cell_type": "code",
   "execution_count": 11,
   "outputs": [
    {
     "data": {
      "text/plain": "(33, 6)"
     },
     "execution_count": 11,
     "metadata": {},
     "output_type": "execute_result"
    }
   ],
   "source": [
    "df2.shape"
   ],
   "metadata": {
    "collapsed": false,
    "pycharm": {
     "name": "#%%\n"
    }
   }
  },
  {
   "cell_type": "code",
   "execution_count": 12,
   "outputs": [
    {
     "data": {
      "text/plain": "(26, 6)"
     },
     "execution_count": 12,
     "metadata": {},
     "output_type": "execute_result"
    }
   ],
   "source": [
    "df3.shape"
   ],
   "metadata": {
    "collapsed": false,
    "pycharm": {
     "name": "#%%\n"
    }
   }
  },
  {
   "cell_type": "code",
   "execution_count": 13,
   "outputs": [
    {
     "data": {
      "text/plain": "(26, 6)"
     },
     "execution_count": 13,
     "metadata": {},
     "output_type": "execute_result"
    }
   ],
   "source": [
    "df4.shape"
   ],
   "metadata": {
    "collapsed": false,
    "pycharm": {
     "name": "#%%\n"
    }
   }
  },
  {
   "cell_type": "code",
   "execution_count": 1,
   "outputs": [
    {
     "data": {
      "text/plain": "22.9765625"
     },
     "execution_count": 1,
     "metadata": {},
     "output_type": "execute_result"
    }
   ],
   "source": [
    "import numpy as np\n",
    "np.mean([22.25, 20.25, 22.25, 28.0, 35.0, 40.25, 36.0, 27.0, 18.5, 20.75, 15.75, 16.5, 16.25, 25.5, 30.0, 24.0, 13.0, 17.25, 20.0, 18.5, 20.0, 14.0, 11.25, 22.0, 19.25, 21.5, 26.75, 23.0, 26.5, 34.75, 24.25, 25.0])\n",
    "\n"
   ],
   "metadata": {
    "collapsed": false,
    "pycharm": {
     "name": "#%%\n"
    }
   }
  },
  {
   "cell_type": "code",
   "execution_count": 6,
   "outputs": [
    {
     "data": {
      "text/plain": "25.3"
     },
     "execution_count": 6,
     "metadata": {},
     "output_type": "execute_result"
    }
   ],
   "source": [
    "np.mean([20.25, 35.0, 36.0, 30.0, 17.25, 22.0, 19.25, 21.5, 26.75, 25.0])\n",
    "\n"
   ],
   "metadata": {
    "collapsed": false,
    "pycharm": {
     "name": "#%%\n"
    }
   }
  },
  {
   "cell_type": "code",
   "execution_count": 7,
   "outputs": [
    {
     "data": {
      "text/plain": "1.5078"
     },
     "execution_count": 7,
     "metadata": {},
     "output_type": "execute_result"
    }
   ],
   "source": [
    "np.mean([2.244, 1.737, 0.729, 1.379, 1.905, 1.326, 0.816, 0.385, 1.590, 2.967])"
   ],
   "metadata": {
    "collapsed": false,
    "pycharm": {
     "name": "#%%\n"
    }
   }
  },
  {
   "cell_type": "code",
   "execution_count": 15,
   "outputs": [
    {
     "data": {
      "text/plain": "1.4063999999999997"
     },
     "execution_count": 15,
     "metadata": {},
     "output_type": "execute_result"
    }
   ],
   "source": [
    "np.mean([1.263, 1.255, 2.320, 1.065, 1.129])\n",
    "\n"
   ],
   "metadata": {
    "collapsed": false,
    "pycharm": {
     "name": "#%%\n"
    }
   }
  },
  {
   "cell_type": "code",
   "execution_count": 2,
   "outputs": [
    {
     "data": {
      "text/plain": "<Figure size 432x288 with 1 Axes>",
      "image/png": "[encoded data removed]"
     },
     "metadata": {
      "needs_background": "light"
     },
     "output_type": "display_data"
    }
   ],
   "source": [
    "import seaborn as sb\n",
    "sbplt = sb.boxplot([1.263, 1.255, 2.320, 1.065, 1.129]).get_figure()\n",
    "sbplt.savefig(\"error_dist_exp2_p2\")\n"
   ],
   "metadata": {
    "collapsed": false,
    "pycharm": {
     "name": "#%%\n"
    }
   }
  },
  {
   "cell_type": "code",
   "execution_count": 3,
   "outputs": [
    {
     "data": {
      "text/plain": "<Figure size 432x288 with 1 Axes>",
      "image/png": "[encoded data removed]"
     },
     "metadata": {
      "needs_background": "light"
     },
     "output_type": "display_data"
    }
   ],
   "source": [
    "sbplt = sb.boxplot([2.244, 1.737, 0.729, 1.379, 1.905, 1.326, 0.816, 0.385, 1.590, 2.967]).get_figure()\n",
    "sbplt.savefig(\"error_dist_exp2_p1\")\n"
   ],
   "metadata": {
    "collapsed": false,
    "pycharm": {
     "name": "#%%\n"
    }
   }
  },
  {
   "cell_type": "code",
   "execution_count": null,
   "outputs": [],
   "source": [
    "\n"
   ],
   "metadata": {
    "collapsed": false,
    "pycharm": {
     "name": "#%%\n"
    }
   }
  }
 ],
 "metadata": {
  "kernelspec": {
   "display_name": "Python 3",
   "language": "python",
   "name": "python3"
  },
  "language_info": {
   "codemirror_mode": {
    "name": "ipython",
    "version": 2
   },
   "file_extension": ".py",
   "mimetype": "text/x-python",
   "name": "python",
   "nbconvert_exporter": "python",
   "pygments_lexer": "ipython2",
   "version": "2.7.6"
  }
 },
 "nbformat": 4,
 "nbformat_minor": 0
}