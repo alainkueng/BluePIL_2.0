{
 "cells": [
  {
   "cell_type": "code",
   "execution_count": 2,
   "metadata": {
    "collapsed": true
   },
   "outputs": [],
   "source": [
    "import functools\n",
    "import pandas as pd\n",
    "import datetime as dt\n",
    "import json\n",
    "import matplotlib.pyplot as plt\n",
    "import numpy as np"
   ]
  },
  {
   "cell_type": "code",
   "execution_count": 3,
   "outputs": [],
   "source": [
    "actual_start_ts = dt.datetime(2020, 7, 3, 10, 9, 42)\n"
   ],
   "metadata": {
    "collapsed": false,
    "pycharm": {
     "name": "#%%\n"
    }
   }
  },
  {
   "cell_type": "code",
   "execution_count": 5,
   "outputs": [
    {
     "name": "stdout",
     "output_type": "stream",
     "text": [
      "sensor: 3\n",
      "              count  lap_count\n",
      "count      1.000000   0.190984\n",
      "lap_count  0.190984   1.000000\n",
      "shape laps: (39,)\n",
      "no people: 38\n",
      "sensor: 1\n",
      "              count  lap_count\n",
      "count      1.000000   0.064021\n",
      "lap_count  0.064021   1.000000\n",
      "shape laps: (60,)\n",
      "no people: 38\n",
      "sensor: 2\n",
      "              count  lap_count\n",
      "count      1.000000   0.129806\n",
      "lap_count  0.129806   1.000000\n",
      "shape laps: (30,)\n",
      "no people: 38\n"
     ]
    },
    {
     "data": {
      "text/plain": "<Figure size 432x288 with 1 Axes>",
      "image/png": "[encoded data removed]"
     },
     "metadata": {
      "needs_background": "light"
     },
     "output_type": "display_data"
    },
    {
     "data": {
      "text/plain": "<Figure size 432x288 with 1 Axes>",
      "image/png": "[encoded data removed]"
     },
     "metadata": {
      "needs_background": "light"
     },
     "output_type": "display_data"
    },
    {
     "data": {
      "text/plain": "<Figure size 432x288 with 1 Axes>",
      "image/png": "[encoded data removed]"
     },
     "metadata": {
      "needs_background": "light"
     },
     "output_type": "display_data"
    }
   ],
   "source": [
    "min_signal = -80\n",
    "\n",
    "df1 = pd.read_csv(\"data/experiment3/tinkerboard1/tb1_2020-07-02_16:04:24.023892.csv\")\n",
    "df2 = pd.read_csv(\"data/experiment3/tinkerboard2/tb2_2020-07-02_16:04:30.999325.csv\")\n",
    "df4 = pd.read_csv(\"data/experiment3/tinkerboard4/tb3_2020-07-02_16:04:42.018970.csv\")\n",
    "\n",
    "def filter_and_plot(df, sensorname):\n",
    "    df[\"timestamp\"] = df[\"timestamp\"].astype('datetime64[ns]')\n",
    "    start_ts = df.iloc()[0][\"timestamp\"]\n",
    "    df[\"timestamp\"] = df[\"timestamp\"] - start_ts\n",
    "    df[\"timestamp\"] = df[\"timestamp\"] + actual_start_ts\n",
    "\n",
    "\n",
    "    with open('data/experiment3/camera data/192.168.2.106_count_FIFTEEN_MINUTES.json') as f:\n",
    "        camera_data = pd.DataFrame(list(map(lambda x: {\"from\": x[\"from\"], \"to\": x[\"to\"], \"count\": x[\"value\"][0][\"value\"]},json.load(f)[\"content\"][\"element\"][0][\"measurement\"])))\n",
    "        camera_data[\"from\"] = camera_data[\"from\"].astype('datetime64[ns]')\n",
    "        camera_data[\"to\"] = camera_data[\"to\"].astype('datetime64[ns]')\n",
    "\n",
    "    minmaxts = df.groupby(\"LAP\").agg({\"timestamp\": [np.min, np.max]})\n",
    "    minmaxts[\"tsdiff\"] = minmaxts[\"timestamp\", \"amax\"] - minmaxts[\"timestamp\", \"amin\"]\n",
    "    minmaxts.sort_values(\"tsdiff\", inplace=True)\n",
    "    filter = (minmaxts[\"tsdiff\"] > dt.timedelta(seconds=1)) & (minmaxts[\"tsdiff\"] < dt.timedelta(hours=1))\n",
    "\n",
    "    filtered_LAPs = minmaxts[filter].index\n",
    "    # LAP_counts = df[\"LAP\"].value_counts()\n",
    "    # constrained_LAP_counts = LAP_counts[(LAP_counts > min_lap_count) & (LAP_counts < max_lap_count)]\n",
    "    #\n",
    "    # filtered_LAPs = constrained_LAP_counts.index\n",
    "\n",
    "    filtered_df = df\n",
    "    filtered_df = filtered_df[filtered_df[\"LAP\"].isin(filtered_LAPs)]\n",
    "    filtered_df = filtered_df[filtered_df[\"signal\"] > min_signal]\n",
    "\n",
    "    def get_lap_count_for_interval(row):\n",
    "        start = row[\"from\"]\n",
    "        end = row[\"to\"]\n",
    "        filtered = filtered_df[(filtered_df[\"timestamp\"] > start) & (filtered_df[\"timestamp\"] < end)]\n",
    "        unique_count = filtered[\"LAP\"].nunique()\n",
    "        row[\"lap_count\"] = unique_count\n",
    "        return row\n",
    "    merged = camera_data.apply(get_lap_count_for_interval, axis=1)\n",
    "    merged = merged[merged[\"lap_count\"] > 0]\n",
    "\n",
    "    # ax = merged.plot(\"from\", \"count\")\n",
    "    # merged.plot(\"from\", \"lap_count\",ax=ax)\n",
    "    print(f'sensor: {sensorname}')\n",
    "    print(merged[[\"count\", \"lap_count\"]].corr())\n",
    "\n",
    "    print(f'shape laps: {filtered_LAPs.shape}')\n",
    "    print(f'no people: {merged[\"count\"].sum()}')\n",
    "\n",
    "    ax = merged.plot(\"count\", \"lap_count\", kind=\"scatter\")\n",
    "    ax.set_ylabel(\"LAP Count\")\n",
    "    ax.set_xlabel(\"People Count\")\n",
    "    ax.set_xlim(left=0, right=10)\n",
    "    ax.set_ylim(bottom=0, top=10)\n",
    "\n",
    "    plt.savefig(f\"lapcnt_vs_pplcnt_{sensorname}.png\")\n",
    "\n",
    "\n",
    "filter_and_plot(df1, \"3\")\n",
    "filter_and_plot(df2, \"1\")\n",
    "filter_and_plot(df4, \"2\")\n"
   ],
   "metadata": {
    "collapsed": false,
    "pycharm": {
     "name": "#%%\n"
    }
   }
  },
  {
   "cell_type": "code",
   "execution_count": 66,
   "outputs": [],
   "source": [
    "minmaxts = df1.groupby(\"LAP\").agg({\"timestamp\": [np.min, np.max]})\n",
    "minmaxts[\"tsdiff\"] = minmaxts[\"timestamp\", \"amax\"] - minmaxts[\"timestamp\", \"amin\"]\n",
    "minmaxts.sort_values(\"tsdiff\", inplace=True)"
   ],
   "metadata": {
    "collapsed": false,
    "pycharm": {
     "name": "#%%\n"
    }
   }
  },
  {
   "cell_type": "code",
   "execution_count": 6,
   "outputs": [
    {
     "name": "stdout",
     "output_type": "stream",
     "text": [
      "24\n",
      "              count  lap_count\n",
      "count      1.000000   0.139848\n",
      "lap_count  0.139848   1.000000\n",
      "no people: 38\n"
     ]
    },
    {
     "data": {
      "text/plain": "<Figure size 432x288 with 1 Axes>",
      "image/png": "[encoded data removed]"
     },
     "metadata": {
      "needs_background": "light"
     },
     "output_type": "display_data"
    }
   ],
   "source": [
    "def filter_merge_plot(dfs):\n",
    "    def adjust_start(df):\n",
    "        df[\"timestamp\"] = df[\"timestamp\"].astype('datetime64[ns]')\n",
    "        start_ts = df.iloc()[0][\"timestamp\"]\n",
    "        df[\"timestamp\"] = df[\"timestamp\"] - start_ts\n",
    "        df[\"timestamp\"] = df[\"timestamp\"] + actual_start_ts\n",
    "\n",
    "    [adjust_start(df) for df in dfs]\n",
    "\n",
    "    def filter_df(df):\n",
    "        minmaxts = df.groupby(\"LAP\").agg({\"timestamp\": [np.min, np.max]})\n",
    "        minmaxts[\"tsdiff\"] = minmaxts[\"timestamp\", \"amax\"] - minmaxts[\"timestamp\", \"amin\"]\n",
    "        minmaxts.sort_values(\"tsdiff\", inplace=True)\n",
    "        filter = (minmaxts[\"tsdiff\"] > dt.timedelta(seconds=1)) & (minmaxts[\"tsdiff\"] < dt.timedelta(hours=1))\n",
    "        filtered_LAPs = minmaxts[filter].index\n",
    "        filtered_df = df\n",
    "        filtered_df = filtered_df[filtered_df[\"LAP\"].isin(filtered_LAPs)]\n",
    "        filtered_df = filtered_df[filtered_df[\"signal\"] > min_signal]\n",
    "        return filtered_df\n",
    "\n",
    "    f_dfs = [filter_df(df) for df in dfs]\n",
    "\n",
    "    with open('data/experiment3/camera data/192.168.2.106_count_FIFTEEN_MINUTES.json') as f:\n",
    "        camera_data = pd.DataFrame(list(map(lambda x: {\"from\": x[\"from\"], \"to\": x[\"to\"], \"count\": x[\"value\"][0][\"value\"]},json.load(f)[\"content\"][\"element\"][0][\"measurement\"])))\n",
    "        camera_data[\"from\"] = camera_data[\"from\"].astype('datetime64[ns]')\n",
    "        camera_data[\"to\"] = camera_data[\"to\"].astype('datetime64[ns]')\n",
    "\n",
    "    all_merged = []\n",
    "    def get_lap_count_for_interval(row):\n",
    "        start = row[\"from\"]\n",
    "        end = row[\"to\"]\n",
    "        filtered = [(f_df[(f_df[\"timestamp\"] > start) & (f_df[\"timestamp\"] < end)]) for f_df in f_dfs]\n",
    "        filtered_sets = [set(f_df[\"LAP\"]) for f_df in filtered]\n",
    "        merged = functools.reduce(lambda a, b: a & b, filtered_sets)\n",
    "        all_merged.append(merged)\n",
    "        unique_count = len(merged)\n",
    "        row[\"lap_count\"] = unique_count\n",
    "        return row\n",
    "    merged = camera_data.apply(get_lap_count_for_interval, axis=1)\n",
    "    merged = merged[merged[\"lap_count\"] > 0]\n",
    "\n",
    "    all_laps = functools.reduce(lambda a, b: a | b, all_merged)\n",
    "    print(len(all_laps))\n",
    "\n",
    "    print(merged[[\"count\", \"lap_count\"]].corr())\n",
    "\n",
    "    print(f'no people: {merged[\"count\"].sum()}')\n",
    "\n",
    "    ax = merged.plot(\"count\", \"lap_count\", kind=\"scatter\")\n",
    "    ax.set_ylabel(\"LAP Count\")\n",
    "    ax.set_xlabel(\"People Count\")\n",
    "    ax.set_xlim(left=0, right=10)\n",
    "    ax.set_ylim(bottom=0, top=10)\n",
    "\n",
    "    plt.savefig(\"lapcnt_vs_pplcnt_merged.png\")\n",
    "\n",
    "filter_merge_plot([df1, df2, df4])\n",
    "\n"
   ],
   "metadata": {
    "collapsed": false,
    "pycharm": {
     "name": "#%%\n"
    }
   }
  },
  {
   "cell_type": "code",
   "execution_count": null,
   "outputs": [],
   "source": [
    "\n"
   ],
   "metadata": {
    "collapsed": false,
    "pycharm": {
     "name": "#%%\n"
    }
   }
  }
 ],
 "metadata": {
  "kernelspec": {
   "display_name": "Python 3",
   "language": "python",
   "name": "python3"
  },
  "language_info": {
   "codemirror_mode": {
    "name": "ipython",
    "version": 2
   },
   "file_extension": ".py",
   "mimetype": "text/x-python",
   "name": "python",
   "nbconvert_exporter": "python",
   "pygments_lexer": "ipython2",
   "version": "2.7.6"
  }
 },
 "nbformat": 4,
 "nbformat_minor": 0
}