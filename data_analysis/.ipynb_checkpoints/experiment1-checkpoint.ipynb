{
 "cells": [
  {
   "cell_type": "code",
   "execution_count": 9,
   "metadata": {
    "pycharm": {
     "name": "#%%\n"
    }
   },
   "outputs": [
    {
     "name": "stdout",
     "output_type": "stream",
     "text": [
      "The autoreload extension is already loaded. To reload it, use:\n",
      "  %reload_ext autoreload\n"
     ]
    }
   ],
   "source": [
    "from matplotlib import patches\n",
    "%load_ext autoreload\n",
    "%autoreload 2"
   ]
  },
  {
   "cell_type": "code",
   "execution_count": 2,
   "metadata": {
    "pycharm": {
     "name": "#%%\n"
    }
   },
   "outputs": [],
   "source": [
    "import numpy as np\n",
    "import matplotlib.pyplot as plt\n",
    "from math import log, log10, sqrt\n",
    "import pandas as pd\n"
   ]
  },
  {
   "cell_type": "code",
   "execution_count": 3,
   "metadata": {
    "pycharm": {
     "name": "#%%\n"
    }
   },
   "outputs": [],
   "source": [
    "from data_analysis.pcap_proc import read_pcap_to_df\n",
    "from data_analysis.rssi_filter import filter_and_smooth_max, filter_and_smooth_max_median, \\\n",
    "    filter_and_smooth_kalman\n",
    "from data_analysis.rssi_plot import plot_rssi, plot_rssi_2\n",
    "from data_analysis.df_reindexer import DfReindexer\n",
    "from data_analysis.df_merger import DfMerger\n",
    "from sink.bp_quadlateration import BpQuadlateration\n",
    "import data_analysis.zi_lemming as zln\n"
   ]
  },
  {
   "cell_type": "markdown",
   "metadata": {},
   "source": [
    "# Notebook for Lemming Zimmer data\n"
   ]
  },
  {
   "cell_type": "markdown",
   "metadata": {},
   "source": [
    "## First, set some directories and constants for the data\n"
   ]
  },
  {
   "cell_type": "code",
   "execution_count": 4,
   "metadata": {
    "pycharm": {
     "name": "#%%\n"
    }
   },
   "outputs": [],
   "source": [
    "zi_lemming_dir = \"data/experiment1_indoor/\"\n",
    "balkonien_dir = \"data/experiment1_outdoor/\"\n",
    "exp_dir = balkonien_dir\n",
    "\n",
    "results_dir = f'{exp_dir}results/'\n",
    "\n",
    "dir_1_p1_5min = exp_dir + \"1-p1-5min/\"\n",
    "dir_2_p2_5min = exp_dir + \"2-p2-5min/\"\n",
    "dir_3_p3_5min = exp_dir + \"3-p3-5min/\"\n",
    "dir_4_p4_5min = exp_dir + \"4-p4-5min/\"\n",
    "dir_5_p5_5min = exp_dir + \"5-p5-5min/\"\n",
    "dir_6_p6_5min = exp_dir + \"6-p6-5min/\"\n",
    "dir_7_p7_5min = exp_dir + \"7-p7-5min/\"\n",
    "dir_8_p8_5min = exp_dir + \"8-p8-5min/\"\n",
    "dir_9_p9_5min = exp_dir + \"9-p9-5min/\"\n",
    "dir_10_p1_10min = exp_dir + \"10-p1-10min/\"\n",
    "dir_11_p6_p7_1min = exp_dir + \"11-p6-p7-1min/\"\n",
    "dir_13_p1_10min_ipad = exp_dir + \"13-p1-10min-ipad/\"\n",
    "dir_14_p6_p5_p2_1min = exp_dir + \"14-p6-p5-p2-1min/\"\n",
    "dir_15_p1_10min_nostream = exp_dir + \"15-p1-10min-nostream/\"\n",
    "\n",
    "d1_file = \"D1.pcap\"\n",
    "d2_file = \"D2.pcap\"\n",
    "d3_file = \"D3.pcap\"\n",
    "d4_file = \"D4.pcap\"\n",
    "\n",
    "d1_coord = (0, 0)\n",
    "d2_coord = (0, 2.9)\n",
    "d3_coord = (4.2, 0)\n",
    "d4_coord = (4.2, 2.9)\n",
    "\n",
    "p1_coord = (2.1, 0)\n",
    "p2_coord = (1.05, 0)\n",
    "p3_coord = (3.15, 0)\n",
    "p4_coord = (2.1, 1.45)\n",
    "p5_coord = (1.05, 1.45)\n",
    "p6_coord = (3.15, 1.45)\n",
    "p7_coord = (0, 1.45)\n",
    "p8_coord = (1.05, 0.725)\n",
    "p9_coord = (2.1, 0.725)\n",
    "\n",
    "jbl_lap = \"4b539600\"\n",
    "nokia_lap = \"2d052200\""
   ]
  },
  {
   "cell_type": "markdown",
   "metadata": {
    "pycharm": {
     "name": "#%% md\n"
    }
   },
   "source": [
    "## Let's try all different combinations for filtering and positioning\n",
    "with exp 1"
   ]
  },
  {
   "cell_type": "code",
   "execution_count": 5,
   "metadata": {
    "pycharm": {
     "name": "#%%\n"
    }
   },
   "outputs": [],
   "source": [
    "dir = dir_6_p6_5min\n",
    "p_true = p6_coord\n",
    "# zln.position_dataset_with_methods(dir, nokia_lap, p_true, \"mean\", \"nlls\")\n",
    "# zln.position_dataset_with_methods(dir, nokia_lap, p_true, \"max-mean\", \"nlls\")\n",
    "# zln.position_dataset_with_methods(dir, nokia_lap, p_true, \"max-median\", \"nlls\")\n",
    "# zln.position_dataset_with_methods(dir, nokia_lap, p_true, \"kalman\", \"nlls\")\n",
    "# zln.position_dataset_with_methods(dir, nokia_lap, p_true, \"kalman-max\", \"nlls\")\n",
    "# zln.position_dataset_with_methods(dir, nokia_lap, p_true, \"kalman\", \"nlls-kalman\")\n",
    "# zln.position_dataset_with_methods(dir, nokia_lap, p_true, \"kalman-max\", \"nlls-kalman\")\n",
    "# zln.position_dataset_with_methods(dir, nokia_lap, p_true, \"max-mean\", \"nlls-kalman\")"
   ]
  },
  {
   "cell_type": "markdown",
   "metadata": {
    "pycharm": {
     "name": "#%% md\n"
    }
   },
   "source": [
    "## Let's compare jbl and nokia estimations"
   ]
  },
  {
   "cell_type": "code",
   "execution_count": 6,
   "metadata": {
    "pycharm": {
     "name": "#%%\n"
    }
   },
   "outputs": [],
   "source": [
    "# zln.position_dataset_with_methods(dir, nokia_lap, \"kalman-max\", \"nlls\", p_true)\n",
    "# zln.position_dataset_with_methods(dir, jbl_lap, \"kalman-max\", \"nlls\", p_true)\n"
   ]
  },
  {
   "cell_type": "markdown",
   "metadata": {},
   "source": [
    "## Let's throw all of this into one method and try it for all datasets"
   ]
  },
  {
   "cell_type": "markdown",
   "metadata": {},
   "source": [
    "## Exp 1, Point 1, 5min"
   ]
  },
  {
   "cell_type": "code",
   "execution_count": 7,
   "metadata": {
    "pycharm": {
     "name": "#%%\n"
    }
   },
   "outputs": [],
   "source": [
    "def calculate_all_methods(dir, lap, resampling_rate, resampling_rate_seconds, p_true=None, path_true=None):\n",
    "    results = {}\n",
    "    # results[\"mean, nlls-kalman\"] = zln.position_dataset_with_methods(dir, lap, \"mean\", \"nlls-kalman\", results_dir, p_true, path_true, resampling_rate=resampling_rate, resampling_rate_in_seconds=resampling_rate_seconds)\n",
    "    results[\"max-mean, nlls-kalman\"] = zln.position_dataset_with_methods(dir, lap, \"max-mean\", \"nlls-kalman\", results_dir, p_true, path_true, resampling_rate=resampling_rate, resampling_rate_in_seconds=resampling_rate_seconds)\n",
    "    # results[\"max-median, nlls-kalman\"] = zln.position_dataset_with_methods(dir, lap, \"max-median\", \"nlls-kalman\", results_dir, p_true, path_true, resampling_rate=resampling_rate, resampling_rate_in_seconds=resampling_rate_seconds)\n",
    "    # results[\"max-mean, nlls-kalman\"] = zln.position_dataset_with_methods(dir, lap, \"max-mean\", \"nlls-kalman\", results_dir, p_true, path_true, resampling_rate=resampling_rate, resampling_rate_in_seconds=resampling_rate_seconds)\n",
    "    # results[\"max-mean, nlls\"] = zln.position_dataset_with_methods(dir, lap, \"max-mean\", \"nlls\", results_dir, p_true, path_true, resampling_rate=resampling_rate, resampling_rate_in_seconds=resampling_rate_seconds)\n",
    "    return results\n",
    "\n",
    "def calculate_all(dir, p_true, resampling_rate = \"5s\", resampling_rate_seconds = 1):\n",
    "    return calculate_all_methods(dir, nokia_lap, resampling_rate, resampling_rate_seconds, p_true)\n",
    "    # calculate_all_methods(dir, jbl_lap, resampling_rate, resampling_rate_seconds, p_true)\n",
    "\n",
    "\n",
    "def calculate_all_path(dir, path_true, resampling_rate = \"1s\", resampling_rate_seconds = 1):\n",
    "    calculate_all_methods(dir, nokia_lap, resampling_rate, resampling_rate_seconds, path_true=path_true)\n",
    "    # calculate_all_methods(dir, jbl_lap, resampling_rate, resampling_rate_seconds, path_true=path_true)\n"
   ]
  },
  {
   "cell_type": "code",
   "execution_count": 8,
   "metadata": {
    "pycharm": {
     "name": "#%%\n"
    }
   },
   "outputs": [
    {
     "ename": "FileNotFoundError",
     "evalue": "[Errno 2] No such file or directory: 'data/experiment1_outdoor/1-p1-5min/D1.pcap'",
     "output_type": "error",
     "traceback": [
      "\u001b[1;31m---------------------------------------------------------------------------\u001b[0m",
      "\u001b[1;31mFileNotFoundError\u001b[0m                         Traceback (most recent call last)",
      "\u001b[1;32mc:\\users\\alain\\bluepil-master\\venv\\lib\\site-packages\\scapy\\utils.py\u001b[0m in \u001b[0;36mopen\u001b[1;34m(filename)\u001b[0m\n\u001b[0;32m    905\u001b[0m             \u001b[1;32mtry\u001b[0m\u001b[1;33m:\u001b[0m\u001b[1;33m\u001b[0m\u001b[1;33m\u001b[0m\u001b[0m\n\u001b[1;32m--> 906\u001b[1;33m                 \u001b[0mfdesc\u001b[0m \u001b[1;33m=\u001b[0m \u001b[0mgzip\u001b[0m\u001b[1;33m.\u001b[0m\u001b[0mopen\u001b[0m\u001b[1;33m(\u001b[0m\u001b[0mfilename\u001b[0m\u001b[1;33m,\u001b[0m \u001b[1;34m\"rb\"\u001b[0m\u001b[1;33m)\u001b[0m\u001b[1;33m\u001b[0m\u001b[1;33m\u001b[0m\u001b[0m\n\u001b[0m\u001b[0;32m    907\u001b[0m                 \u001b[0mmagic\u001b[0m \u001b[1;33m=\u001b[0m \u001b[0mfdesc\u001b[0m\u001b[1;33m.\u001b[0m\u001b[0mread\u001b[0m\u001b[1;33m(\u001b[0m\u001b[1;36m4\u001b[0m\u001b[1;33m)\u001b[0m\u001b[1;33m\u001b[0m\u001b[1;33m\u001b[0m\u001b[0m\n",
      "\u001b[1;32m~\\AppData\\Local\\Programs\\Python\\Python38-32\\lib\\gzip.py\u001b[0m in \u001b[0;36mopen\u001b[1;34m(filename, mode, compresslevel, encoding, errors, newline)\u001b[0m\n\u001b[0;32m     57\u001b[0m     \u001b[1;32mif\u001b[0m \u001b[0misinstance\u001b[0m\u001b[1;33m(\u001b[0m\u001b[0mfilename\u001b[0m\u001b[1;33m,\u001b[0m \u001b[1;33m(\u001b[0m\u001b[0mstr\u001b[0m\u001b[1;33m,\u001b[0m \u001b[0mbytes\u001b[0m\u001b[1;33m,\u001b[0m \u001b[0mos\u001b[0m\u001b[1;33m.\u001b[0m\u001b[0mPathLike\u001b[0m\u001b[1;33m)\u001b[0m\u001b[1;33m)\u001b[0m\u001b[1;33m:\u001b[0m\u001b[1;33m\u001b[0m\u001b[1;33m\u001b[0m\u001b[0m\n\u001b[1;32m---> 58\u001b[1;33m         \u001b[0mbinary_file\u001b[0m \u001b[1;33m=\u001b[0m \u001b[0mGzipFile\u001b[0m\u001b[1;33m(\u001b[0m\u001b[0mfilename\u001b[0m\u001b[1;33m,\u001b[0m \u001b[0mgz_mode\u001b[0m\u001b[1;33m,\u001b[0m \u001b[0mcompresslevel\u001b[0m\u001b[1;33m)\u001b[0m\u001b[1;33m\u001b[0m\u001b[1;33m\u001b[0m\u001b[0m\n\u001b[0m\u001b[0;32m     59\u001b[0m     \u001b[1;32melif\u001b[0m \u001b[0mhasattr\u001b[0m\u001b[1;33m(\u001b[0m\u001b[0mfilename\u001b[0m\u001b[1;33m,\u001b[0m \u001b[1;34m\"read\"\u001b[0m\u001b[1;33m)\u001b[0m \u001b[1;32mor\u001b[0m \u001b[0mhasattr\u001b[0m\u001b[1;33m(\u001b[0m\u001b[0mfilename\u001b[0m\u001b[1;33m,\u001b[0m \u001b[1;34m\"write\"\u001b[0m\u001b[1;33m)\u001b[0m\u001b[1;33m:\u001b[0m\u001b[1;33m\u001b[0m\u001b[1;33m\u001b[0m\u001b[0m\n",
      "\u001b[1;32m~\\AppData\\Local\\Programs\\Python\\Python38-32\\lib\\gzip.py\u001b[0m in \u001b[0;36m__init__\u001b[1;34m(self, filename, mode, compresslevel, fileobj, mtime)\u001b[0m\n\u001b[0;32m    172\u001b[0m         \u001b[1;32mif\u001b[0m \u001b[0mfileobj\u001b[0m \u001b[1;32mis\u001b[0m \u001b[1;32mNone\u001b[0m\u001b[1;33m:\u001b[0m\u001b[1;33m\u001b[0m\u001b[1;33m\u001b[0m\u001b[0m\n\u001b[1;32m--> 173\u001b[1;33m             \u001b[0mfileobj\u001b[0m \u001b[1;33m=\u001b[0m \u001b[0mself\u001b[0m\u001b[1;33m.\u001b[0m\u001b[0mmyfileobj\u001b[0m \u001b[1;33m=\u001b[0m \u001b[0mbuiltins\u001b[0m\u001b[1;33m.\u001b[0m\u001b[0mopen\u001b[0m\u001b[1;33m(\u001b[0m\u001b[0mfilename\u001b[0m\u001b[1;33m,\u001b[0m \u001b[0mmode\u001b[0m \u001b[1;32mor\u001b[0m \u001b[1;34m'rb'\u001b[0m\u001b[1;33m)\u001b[0m\u001b[1;33m\u001b[0m\u001b[1;33m\u001b[0m\u001b[0m\n\u001b[0m\u001b[0;32m    174\u001b[0m         \u001b[1;32mif\u001b[0m \u001b[0mfilename\u001b[0m \u001b[1;32mis\u001b[0m \u001b[1;32mNone\u001b[0m\u001b[1;33m:\u001b[0m\u001b[1;33m\u001b[0m\u001b[1;33m\u001b[0m\u001b[0m\n",
      "\u001b[1;31mFileNotFoundError\u001b[0m: [Errno 2] No such file or directory: 'data/experiment1_outdoor/1-p1-5min/D1.pcap'",
      "\nDuring handling of the above exception, another exception occurred:\n",
      "\u001b[1;31mFileNotFoundError\u001b[0m                         Traceback (most recent call last)",
      "\u001b[1;32m<ipython-input-8-824e22c70a62>\u001b[0m in \u001b[0;36m<module>\u001b[1;34m\u001b[0m\n\u001b[1;32m----> 1\u001b[1;33m \u001b[0mres_p1\u001b[0m \u001b[1;33m=\u001b[0m \u001b[0mcalculate_all\u001b[0m\u001b[1;33m(\u001b[0m\u001b[0mdir_1_p1_5min\u001b[0m\u001b[1;33m,\u001b[0m \u001b[0mp1_coord\u001b[0m\u001b[1;33m)\u001b[0m\u001b[1;33m\u001b[0m\u001b[1;33m\u001b[0m\u001b[0m\n\u001b[0m\u001b[0;32m      2\u001b[0m \u001b[1;33m\u001b[0m\u001b[0m\n\u001b[0;32m      3\u001b[0m \u001b[1;33m\u001b[0m\u001b[0m\n",
      "\u001b[1;32m<ipython-input-7-5b20bab9a73f>\u001b[0m in \u001b[0;36mcalculate_all\u001b[1;34m(dir, p_true, resampling_rate, resampling_rate_seconds)\u001b[0m\n\u001b[0;32m      9\u001b[0m \u001b[1;33m\u001b[0m\u001b[0m\n\u001b[0;32m     10\u001b[0m \u001b[1;32mdef\u001b[0m \u001b[0mcalculate_all\u001b[0m\u001b[1;33m(\u001b[0m\u001b[0mdir\u001b[0m\u001b[1;33m,\u001b[0m \u001b[0mp_true\u001b[0m\u001b[1;33m,\u001b[0m \u001b[0mresampling_rate\u001b[0m \u001b[1;33m=\u001b[0m \u001b[1;34m\"5s\"\u001b[0m\u001b[1;33m,\u001b[0m \u001b[0mresampling_rate_seconds\u001b[0m \u001b[1;33m=\u001b[0m \u001b[1;36m1\u001b[0m\u001b[1;33m)\u001b[0m\u001b[1;33m:\u001b[0m\u001b[1;33m\u001b[0m\u001b[1;33m\u001b[0m\u001b[0m\n\u001b[1;32m---> 11\u001b[1;33m     \u001b[1;32mreturn\u001b[0m \u001b[0mcalculate_all_methods\u001b[0m\u001b[1;33m(\u001b[0m\u001b[0mdir\u001b[0m\u001b[1;33m,\u001b[0m \u001b[0mnokia_lap\u001b[0m\u001b[1;33m,\u001b[0m \u001b[0mresampling_rate\u001b[0m\u001b[1;33m,\u001b[0m \u001b[0mresampling_rate_seconds\u001b[0m\u001b[1;33m,\u001b[0m \u001b[0mp_true\u001b[0m\u001b[1;33m)\u001b[0m\u001b[1;33m\u001b[0m\u001b[1;33m\u001b[0m\u001b[0m\n\u001b[0m\u001b[0;32m     12\u001b[0m     \u001b[1;31m# calculate_all_methods(dir, jbl_lap, resampling_rate, resampling_rate_seconds, p_true)\u001b[0m\u001b[1;33m\u001b[0m\u001b[1;33m\u001b[0m\u001b[1;33m\u001b[0m\u001b[0m\n\u001b[0;32m     13\u001b[0m \u001b[1;33m\u001b[0m\u001b[0m\n",
      "\u001b[1;32m<ipython-input-7-5b20bab9a73f>\u001b[0m in \u001b[0;36mcalculate_all_methods\u001b[1;34m(dir, lap, resampling_rate, resampling_rate_seconds, p_true, path_true)\u001b[0m\n\u001b[0;32m      2\u001b[0m     \u001b[0mresults\u001b[0m \u001b[1;33m=\u001b[0m \u001b[1;33m{\u001b[0m\u001b[1;33m}\u001b[0m\u001b[1;33m\u001b[0m\u001b[1;33m\u001b[0m\u001b[0m\n\u001b[0;32m      3\u001b[0m     \u001b[1;31m# results[\"mean, nlls-kalman\"] = zln.position_dataset_with_methods(dir, lap, \"mean\", \"nlls-kalman\", results_dir, p_true, path_true, resampling_rate=resampling_rate, resampling_rate_in_seconds=resampling_rate_seconds)\u001b[0m\u001b[1;33m\u001b[0m\u001b[1;33m\u001b[0m\u001b[1;33m\u001b[0m\u001b[0m\n\u001b[1;32m----> 4\u001b[1;33m     \u001b[0mresults\u001b[0m\u001b[1;33m[\u001b[0m\u001b[1;34m\"max-mean, nlls-kalman\"\u001b[0m\u001b[1;33m]\u001b[0m \u001b[1;33m=\u001b[0m \u001b[0mzln\u001b[0m\u001b[1;33m.\u001b[0m\u001b[0mposition_dataset_with_methods\u001b[0m\u001b[1;33m(\u001b[0m\u001b[0mdir\u001b[0m\u001b[1;33m,\u001b[0m \u001b[0mlap\u001b[0m\u001b[1;33m,\u001b[0m \u001b[1;34m\"max-mean\"\u001b[0m\u001b[1;33m,\u001b[0m \u001b[1;34m\"nlls-kalman\"\u001b[0m\u001b[1;33m,\u001b[0m \u001b[0mresults_dir\u001b[0m\u001b[1;33m,\u001b[0m \u001b[0mp_true\u001b[0m\u001b[1;33m,\u001b[0m \u001b[0mpath_true\u001b[0m\u001b[1;33m,\u001b[0m \u001b[0mresampling_rate\u001b[0m\u001b[1;33m=\u001b[0m\u001b[0mresampling_rate\u001b[0m\u001b[1;33m,\u001b[0m \u001b[0mresampling_rate_in_seconds\u001b[0m\u001b[1;33m=\u001b[0m\u001b[0mresampling_rate_seconds\u001b[0m\u001b[1;33m)\u001b[0m\u001b[1;33m\u001b[0m\u001b[1;33m\u001b[0m\u001b[0m\n\u001b[0m\u001b[0;32m      5\u001b[0m     \u001b[1;31m# results[\"max-median, nlls-kalman\"] = zln.position_dataset_with_methods(dir, lap, \"max-median\", \"nlls-kalman\", results_dir, p_true, path_true, resampling_rate=resampling_rate, resampling_rate_in_seconds=resampling_rate_seconds)\u001b[0m\u001b[1;33m\u001b[0m\u001b[1;33m\u001b[0m\u001b[1;33m\u001b[0m\u001b[0m\n\u001b[0;32m      6\u001b[0m     \u001b[1;31m# results[\"max-mean, nlls-kalman\"] = zln.position_dataset_with_methods(dir, lap, \"max-mean\", \"nlls-kalman\", results_dir, p_true, path_true, resampling_rate=resampling_rate, resampling_rate_in_seconds=resampling_rate_seconds)\u001b[0m\u001b[1;33m\u001b[0m\u001b[1;33m\u001b[0m\u001b[1;33m\u001b[0m\u001b[0m\n",
      "\u001b[1;32m~\\bluepil-master\\data_analysis\\zi_lemming.py\u001b[0m in \u001b[0;36mposition_dataset_with_methods\u001b[1;34m(exp_subdir, lap, filter_method, positioning_method, results_dir, true_point, true_path, n, resampling_rate, resampling_rate_in_seconds)\u001b[0m\n\u001b[0;32m     60\u001b[0m         \u001b[1;32mreturn\u001b[0m \u001b[0mlist\u001b[0m\u001b[1;33m(\u001b[0m\u001b[0mmap\u001b[0m\u001b[1;33m(\u001b[0m\u001b[1;32mlambda\u001b[0m \u001b[0mdf\u001b[0m\u001b[1;33m:\u001b[0m \u001b[0mfilter_and_smooth_kalman\u001b[0m\u001b[1;33m(\u001b[0m\u001b[0mdf\u001b[0m\u001b[1;33m,\u001b[0m \u001b[1;34m\"signal\"\u001b[0m\u001b[1;33m,\u001b[0m \u001b[1;34m\"20s\"\u001b[0m\u001b[1;33m)\u001b[0m\u001b[1;33m,\u001b[0m \u001b[0mdfs\u001b[0m\u001b[1;33m)\u001b[0m\u001b[1;33m)\u001b[0m\u001b[1;33m\u001b[0m\u001b[1;33m\u001b[0m\u001b[0m\n\u001b[0;32m     61\u001b[0m \u001b[1;33m\u001b[0m\u001b[0m\n\u001b[1;32m---> 62\u001b[1;33m     \u001b[0mdfs\u001b[0m \u001b[1;33m=\u001b[0m \u001b[0mload_pcaps\u001b[0m\u001b[1;33m(\u001b[0m\u001b[0mexp_subdir\u001b[0m\u001b[1;33m)\u001b[0m\u001b[1;33m\u001b[0m\u001b[1;33m\u001b[0m\u001b[0m\n\u001b[0m\u001b[0;32m     63\u001b[0m \u001b[1;33m\u001b[0m\u001b[0m\n\u001b[0;32m     64\u001b[0m     \u001b[1;32mfor\u001b[0m \u001b[0midx\u001b[0m\u001b[1;33m,\u001b[0m \u001b[0mdf\u001b[0m \u001b[1;32min\u001b[0m \u001b[0menumerate\u001b[0m\u001b[1;33m(\u001b[0m\u001b[0mdfs\u001b[0m\u001b[1;33m)\u001b[0m\u001b[1;33m:\u001b[0m\u001b[1;33m\u001b[0m\u001b[1;33m\u001b[0m\u001b[0m\n",
      "\u001b[1;32m~\\bluepil-master\\data_analysis\\zi_lemming.py\u001b[0m in \u001b[0;36mload_pcaps\u001b[1;34m(exp_dir)\u001b[0m\n\u001b[0;32m     38\u001b[0m \u001b[1;33m\u001b[0m\u001b[0m\n\u001b[0;32m     39\u001b[0m     \u001b[1;32mdef\u001b[0m \u001b[0mload_pcaps\u001b[0m\u001b[1;33m(\u001b[0m\u001b[0mexp_dir\u001b[0m\u001b[1;33m)\u001b[0m\u001b[1;33m:\u001b[0m\u001b[1;33m\u001b[0m\u001b[1;33m\u001b[0m\u001b[0m\n\u001b[1;32m---> 40\u001b[1;33m         \u001b[0md1\u001b[0m \u001b[1;33m=\u001b[0m \u001b[0mread_pcap_to_df\u001b[0m\u001b[1;33m(\u001b[0m\u001b[0mexp_dir\u001b[0m \u001b[1;33m+\u001b[0m \u001b[0md1_file\u001b[0m\u001b[1;33m,\u001b[0m \u001b[0mlap\u001b[0m\u001b[1;33m)\u001b[0m\u001b[1;33m\u001b[0m\u001b[1;33m\u001b[0m\u001b[0m\n\u001b[0m\u001b[0;32m     41\u001b[0m         \u001b[0md2\u001b[0m \u001b[1;33m=\u001b[0m \u001b[0mread_pcap_to_df\u001b[0m\u001b[1;33m(\u001b[0m\u001b[0mexp_dir\u001b[0m \u001b[1;33m+\u001b[0m \u001b[0md2_file\u001b[0m\u001b[1;33m,\u001b[0m \u001b[0mlap\u001b[0m\u001b[1;33m)\u001b[0m\u001b[1;33m\u001b[0m\u001b[1;33m\u001b[0m\u001b[0m\n\u001b[0;32m     42\u001b[0m         \u001b[0md3\u001b[0m \u001b[1;33m=\u001b[0m \u001b[0mread_pcap_to_df\u001b[0m\u001b[1;33m(\u001b[0m\u001b[0mexp_dir\u001b[0m \u001b[1;33m+\u001b[0m \u001b[0md3_file\u001b[0m\u001b[1;33m,\u001b[0m \u001b[0mlap\u001b[0m\u001b[1;33m)\u001b[0m\u001b[1;33m\u001b[0m\u001b[1;33m\u001b[0m\u001b[0m\n",
      "\u001b[1;32m~\\bluepil-master\\data_analysis\\pcap_proc.py\u001b[0m in \u001b[0;36mread_pcap_to_df\u001b[1;34m(pcap_file, lap)\u001b[0m\n\u001b[0;32m     53\u001b[0m \u001b[1;33m\u001b[0m\u001b[0m\n\u001b[0;32m     54\u001b[0m \u001b[1;32mdef\u001b[0m \u001b[0mread_pcap_to_df\u001b[0m\u001b[1;33m(\u001b[0m\u001b[0mpcap_file\u001b[0m\u001b[1;33m,\u001b[0m \u001b[0mlap\u001b[0m\u001b[1;33m)\u001b[0m\u001b[1;33m:\u001b[0m\u001b[1;33m\u001b[0m\u001b[1;33m\u001b[0m\u001b[0m\n\u001b[1;32m---> 55\u001b[1;33m     \u001b[0mpcap\u001b[0m \u001b[1;33m=\u001b[0m \u001b[0mrdpcap\u001b[0m\u001b[1;33m(\u001b[0m\u001b[0mpcap_file\u001b[0m\u001b[1;33m)\u001b[0m\u001b[1;33m\u001b[0m\u001b[1;33m\u001b[0m\u001b[0m\n\u001b[0m\u001b[0;32m     56\u001b[0m     \u001b[1;32mreturn\u001b[0m \u001b[0mget_df_for_pcap\u001b[0m\u001b[1;33m(\u001b[0m\u001b[0mpcap\u001b[0m\u001b[1;33m,\u001b[0m \u001b[0mlap\u001b[0m\u001b[1;33m)\u001b[0m\u001b[1;33m\u001b[0m\u001b[1;33m\u001b[0m\u001b[0m\n",
      "\u001b[1;32mc:\\users\\alain\\bluepil-master\\venv\\lib\\site-packages\\scapy\\utils.py\u001b[0m in \u001b[0;36mrdpcap\u001b[1;34m(filename, count)\u001b[0m\n\u001b[0;32m    858\u001b[0m \u001b[1;33m\u001b[0m\u001b[0m\n\u001b[0;32m    859\u001b[0m     \"\"\"\n\u001b[1;32m--> 860\u001b[1;33m     \u001b[1;32mwith\u001b[0m \u001b[0mPcapReader\u001b[0m\u001b[1;33m(\u001b[0m\u001b[0mfilename\u001b[0m\u001b[1;33m)\u001b[0m \u001b[1;32mas\u001b[0m \u001b[0mfdesc\u001b[0m\u001b[1;33m:\u001b[0m\u001b[1;33m\u001b[0m\u001b[1;33m\u001b[0m\u001b[0m\n\u001b[0m\u001b[0;32m    861\u001b[0m         \u001b[1;32mreturn\u001b[0m \u001b[0mfdesc\u001b[0m\u001b[1;33m.\u001b[0m\u001b[0mread_all\u001b[0m\u001b[1;33m(\u001b[0m\u001b[0mcount\u001b[0m\u001b[1;33m=\u001b[0m\u001b[0mcount\u001b[0m\u001b[1;33m)\u001b[0m\u001b[1;33m\u001b[0m\u001b[1;33m\u001b[0m\u001b[0m\n\u001b[0;32m    862\u001b[0m \u001b[1;33m\u001b[0m\u001b[0m\n",
      "\u001b[1;32mc:\\users\\alain\\bluepil-master\\venv\\lib\\site-packages\\scapy\\utils.py\u001b[0m in \u001b[0;36m__call__\u001b[1;34m(cls, filename)\u001b[0m\n\u001b[0;32m    881\u001b[0m         \"\"\"\n\u001b[0;32m    882\u001b[0m         \u001b[0mi\u001b[0m \u001b[1;33m=\u001b[0m \u001b[0mcls\u001b[0m\u001b[1;33m.\u001b[0m\u001b[0m__new__\u001b[0m\u001b[1;33m(\u001b[0m\u001b[0mcls\u001b[0m\u001b[1;33m,\u001b[0m \u001b[0mcls\u001b[0m\u001b[1;33m.\u001b[0m\u001b[0m__name__\u001b[0m\u001b[1;33m,\u001b[0m \u001b[0mcls\u001b[0m\u001b[1;33m.\u001b[0m\u001b[0m__bases__\u001b[0m\u001b[1;33m,\u001b[0m \u001b[0mcls\u001b[0m\u001b[1;33m.\u001b[0m\u001b[0m__dict__\u001b[0m\u001b[1;33m)\u001b[0m\u001b[1;33m\u001b[0m\u001b[1;33m\u001b[0m\u001b[0m\n\u001b[1;32m--> 883\u001b[1;33m         \u001b[0mfilename\u001b[0m\u001b[1;33m,\u001b[0m \u001b[0mfdesc\u001b[0m\u001b[1;33m,\u001b[0m \u001b[0mmagic\u001b[0m \u001b[1;33m=\u001b[0m \u001b[0mcls\u001b[0m\u001b[1;33m.\u001b[0m\u001b[0mopen\u001b[0m\u001b[1;33m(\u001b[0m\u001b[0mfilename\u001b[0m\u001b[1;33m)\u001b[0m\u001b[1;33m\u001b[0m\u001b[1;33m\u001b[0m\u001b[0m\n\u001b[0m\u001b[0;32m    884\u001b[0m         \u001b[1;32mtry\u001b[0m\u001b[1;33m:\u001b[0m\u001b[1;33m\u001b[0m\u001b[1;33m\u001b[0m\u001b[0m\n\u001b[0;32m    885\u001b[0m             \u001b[0mi\u001b[0m\u001b[1;33m.\u001b[0m\u001b[0m__init__\u001b[0m\u001b[1;33m(\u001b[0m\u001b[0mfilename\u001b[0m\u001b[1;33m,\u001b[0m \u001b[0mfdesc\u001b[0m\u001b[1;33m,\u001b[0m \u001b[0mmagic\u001b[0m\u001b[1;33m)\u001b[0m\u001b[1;33m\u001b[0m\u001b[1;33m\u001b[0m\u001b[0m\n",
      "\u001b[1;32mc:\\users\\alain\\bluepil-master\\venv\\lib\\site-packages\\scapy\\utils.py\u001b[0m in \u001b[0;36mopen\u001b[1;34m(filename)\u001b[0m\n\u001b[0;32m    907\u001b[0m                 \u001b[0mmagic\u001b[0m \u001b[1;33m=\u001b[0m \u001b[0mfdesc\u001b[0m\u001b[1;33m.\u001b[0m\u001b[0mread\u001b[0m\u001b[1;33m(\u001b[0m\u001b[1;36m4\u001b[0m\u001b[1;33m)\u001b[0m\u001b[1;33m\u001b[0m\u001b[1;33m\u001b[0m\u001b[0m\n\u001b[0;32m    908\u001b[0m             \u001b[1;32mexcept\u001b[0m \u001b[0mIOError\u001b[0m\u001b[1;33m:\u001b[0m\u001b[1;33m\u001b[0m\u001b[1;33m\u001b[0m\u001b[0m\n\u001b[1;32m--> 909\u001b[1;33m                 \u001b[0mfdesc\u001b[0m \u001b[1;33m=\u001b[0m \u001b[0mopen\u001b[0m\u001b[1;33m(\u001b[0m\u001b[0mfilename\u001b[0m\u001b[1;33m,\u001b[0m \u001b[1;34m\"rb\"\u001b[0m\u001b[1;33m)\u001b[0m\u001b[1;33m\u001b[0m\u001b[1;33m\u001b[0m\u001b[0m\n\u001b[0m\u001b[0;32m    910\u001b[0m                 \u001b[0mmagic\u001b[0m \u001b[1;33m=\u001b[0m \u001b[0mfdesc\u001b[0m\u001b[1;33m.\u001b[0m\u001b[0mread\u001b[0m\u001b[1;33m(\u001b[0m\u001b[1;36m4\u001b[0m\u001b[1;33m)\u001b[0m\u001b[1;33m\u001b[0m\u001b[1;33m\u001b[0m\u001b[0m\n\u001b[0;32m    911\u001b[0m         \u001b[1;32melse\u001b[0m\u001b[1;33m:\u001b[0m\u001b[1;33m\u001b[0m\u001b[1;33m\u001b[0m\u001b[0m\n",
      "\u001b[1;31mFileNotFoundError\u001b[0m: [Errno 2] No such file or directory: 'data/experiment1_outdoor/1-p1-5min/D1.pcap'"
     ]
    }
   ],
   "source": [
    "res_p1 = calculate_all(dir_1_p1_5min, p1_coord)\n"
   ]
  },
  {
   "cell_type": "markdown",
   "metadata": {},
   "source": [
    "## Exp 2, Point 2, 5min\n"
   ]
  },
  {
   "cell_type": "code",
   "execution_count": null,
   "metadata": {
    "pycharm": {
     "name": "#%%\n"
    }
   },
   "outputs": [],
   "source": [
    "res_p2 = calculate_all(dir_2_p2_5min, p2_coord)"
   ]
  },
  {
   "cell_type": "markdown",
   "metadata": {},
   "source": [
    "## Exp 3, Point 3, 5min\n"
   ]
  },
  {
   "cell_type": "code",
   "execution_count": null,
   "metadata": {
    "pycharm": {
     "name": "#%%\n"
    }
   },
   "outputs": [],
   "source": [
    "res_p3 = calculate_all(dir_3_p3_5min, p3_coord)\n"
   ]
  },
  {
   "cell_type": "markdown",
   "metadata": {},
   "source": [
    "## Exp 4, Point 4, 5min\n"
   ]
  },
  {
   "cell_type": "code",
   "execution_count": null,
   "metadata": {
    "pycharm": {
     "name": "#%%\n"
    }
   },
   "outputs": [],
   "source": [
    "res_p4 = calculate_all(dir_4_p4_5min, p4_coord)\n"
   ]
  },
  {
   "cell_type": "markdown",
   "metadata": {},
   "source": [
    "## Exp 5, Point 5, 5min\n"
   ]
  },
  {
   "cell_type": "code",
   "execution_count": null,
   "metadata": {
    "pycharm": {
     "name": "#%%\n"
    }
   },
   "outputs": [],
   "source": [
    "res_p5 = calculate_all(dir_5_p5_5min, p5_coord)\n"
   ]
  },
  {
   "cell_type": "markdown",
   "metadata": {},
   "source": [
    "## Exp 6, Point 6, 5min\n"
   ]
  },
  {
   "cell_type": "code",
   "execution_count": null,
   "metadata": {
    "pycharm": {
     "name": "#%%\n"
    }
   },
   "outputs": [],
   "source": [
    "res_p6 = calculate_all(dir_6_p6_5min, p6_coord)\n"
   ]
  },
  {
   "cell_type": "markdown",
   "metadata": {},
   "source": [
    "## Exp 7, Point 7, 5min\n"
   ]
  },
  {
   "cell_type": "code",
   "execution_count": null,
   "metadata": {
    "pycharm": {
     "name": "#%%\n"
    }
   },
   "outputs": [],
   "source": [
    "res_p7 = calculate_all(dir_7_p7_5min, p7_coord)\n"
   ]
  },
  {
   "cell_type": "markdown",
   "metadata": {},
   "source": [
    "## Exp 8, Point 8, 5min\n"
   ]
  },
  {
   "cell_type": "code",
   "execution_count": null,
   "metadata": {
    "pycharm": {
     "name": "#%%\n"
    }
   },
   "outputs": [],
   "source": [
    "res_p8 = calculate_all(dir_8_p8_5min, p8_coord)\n"
   ]
  },
  {
   "cell_type": "markdown",
   "metadata": {},
   "source": [
    "## Exp 9, Point 9, 5min\n"
   ]
  },
  {
   "cell_type": "code",
   "execution_count": null,
   "metadata": {
    "pycharm": {
     "name": "#%%\n"
    }
   },
   "outputs": [],
   "source": [
    "res_p9 = calculate_all(dir_9_p9_5min, p9_coord)\n"
   ]
  },
  {
   "cell_type": "code",
   "execution_count": null,
   "metadata": {
    "pycharm": {
     "name": "#%%\n"
    }
   },
   "outputs": [],
   "source": [
    "LD = [res_p1, res_p2, res_p3, res_p4, res_p5, res_p6, res_p7, res_p8, res_p9]\n",
    "DL = {k: [dic[k] for dic in LD] for k in LD[0]}"
   ]
  },
  {
   "cell_type": "code",
   "execution_count": null,
   "metadata": {
    "pycharm": {
     "name": "#%%\n"
    }
   },
   "outputs": [],
   "source": [
    "for key, value in DL.items():\n",
    "    print(f'{key}: ME {np.mean(value)}')"
   ]
  },
  {
   "cell_type": "code",
   "execution_count": null,
   "metadata": {
    "pycharm": {
     "name": "#%%\n"
    }
   },
   "outputs": [],
   "source": [
    "import seaborn as sb\n",
    "sbplt = sb.boxplot(DL['max-mean, nlls-kalman']).get_figure()\n",
    "sbplt.savefig(\"error_dist_exp1_outdoor\")"
   ]
  },
  {
   "cell_type": "markdown",
   "metadata": {},
   "source": [
    "## Exp 11\n"
   ]
  },
  {
   "cell_type": "code",
   "execution_count": null,
   "metadata": {
    "pycharm": {
     "name": "#%%\n"
    }
   },
   "outputs": [],
   "source": [
    "# zl.position_dataset(dir_11_p6_p7_1min, nokia_lap, p6_coord, resampling_rate=\"100ms\")\n"
   ]
  },
  {
   "cell_type": "markdown",
   "metadata": {},
   "source": [
    "## Exp 10\n"
   ]
  },
  {
   "cell_type": "code",
   "execution_count": null,
   "metadata": {
    "pycharm": {
     "name": "#%%\n"
    }
   },
   "outputs": [],
   "source": [
    "# zl.position_dataset(dir_10_p1_10min, nokia_lap, p1_coord)\n"
   ]
  },
  {
   "cell_type": "markdown",
   "metadata": {},
   "source": [
    "## Exp 14"
   ]
  },
  {
   "cell_type": "code",
   "execution_count": null,
   "metadata": {
    "pycharm": {
     "name": "#%%\n"
    }
   },
   "outputs": [],
   "source": [
    "calculate_all_path(dir_14_p6_p5_p2_1min, [p6_coord, p5_coord, p2_coord], resampling_rate=\"100ms\", resampling_rate_seconds=0.1)\n",
    "\n"
   ]
  },
  {
   "cell_type": "markdown",
   "metadata": {},
   "source": [
    "## Declare functions for loading data\n"
   ]
  },
  {
   "cell_type": "code",
   "execution_count": null,
   "metadata": {
    "pycharm": {
     "name": "#%%\n"
    }
   },
   "outputs": [],
   "source": [
    "def load_pcaps(exp_dir):\n",
    "    d1 = read_pcap_to_df(exp_dir + d1_file, nokia_lap)\n",
    "    d2 = read_pcap_to_df(exp_dir + d2_file, nokia_lap)\n",
    "    d3 = read_pcap_to_df(exp_dir + d3_file, nokia_lap)\n",
    "    d4 = read_pcap_to_df(exp_dir + d4_file, nokia_lap)\n",
    "    return d1, d2, d3, d4\n"
   ]
  },
  {
   "cell_type": "markdown",
   "metadata": {},
   "source": [
    "## And load the data"
   ]
  },
  {
   "cell_type": "code",
   "execution_count": null,
   "metadata": {
    "pycharm": {
     "name": "#%%\n"
    }
   },
   "outputs": [],
   "source": [
    "dfs8 = load_pcaps(\"data/experiment1_indoor/8-p8-5min/\")"
   ]
  },
  {
   "cell_type": "markdown",
   "metadata": {},
   "source": [
    "## Now plot the data\n"
   ]
  },
  {
   "cell_type": "code",
   "execution_count": null,
   "metadata": {
    "pycharm": {
     "name": "#%%\n"
    }
   },
   "outputs": [],
   "source": [
    "plot_rssi(dfs8[0], \"d1\")\n",
    "plot_rssi(dfs8[1], \"d2\")\n",
    "plot_rssi(dfs8[2], \"d3\")\n",
    "plot_rssi(dfs8[3], \"d4\")"
   ]
  },
  {
   "cell_type": "code",
   "execution_count": null,
   "metadata": {
    "pycharm": {
     "name": "#%%\n"
    }
   },
   "outputs": [],
   "source": [
    "dfs8[3].plot(kind=\"line\", x=\"timestamp\", y=\"signal\")\n",
    "plt.savefig(\"rssi_ex.png\", bbox_inches='tight', dpi=300)"
   ]
  },
  {
   "cell_type": "code",
   "execution_count": null,
   "metadata": {
    "pycharm": {
     "name": "#%%\n"
    }
   },
   "outputs": [],
   "source": [
    "dfs8[3][\"signal\"].plot.hist(bins=50)\n",
    "plt.savefig(\"rssi_ex_hist.png\", bbox_inches='tight', dpi=300)"
   ]
  },
  {
   "cell_type": "code",
   "execution_count": null,
   "metadata": {
    "pycharm": {
     "name": "#%%\n"
    }
   },
   "outputs": [],
   "source": [
    "room_lim_x = (0, 4.2)\n",
    "room_lim_y = (0, 2.9)\n",
    "\n",
    "plot_padding = 0.5\n",
    "\n",
    "plot_lim_x = (room_lim_x[0] - plot_padding, room_lim_x[1] + plot_padding)\n",
    "plot_lim_y = (room_lim_y[0] - plot_padding, room_lim_y[1] + plot_padding)\n",
    "\n",
    "ax = plt.subplot(xlim=plot_lim_x, ylim=plot_lim_y)\n",
    "\n",
    "rect1 = patches.Rectangle((room_lim_x[0], room_lim_y[0]), room_lim_x[1], room_lim_y[1], linewidth=1,\n",
    "                              edgecolor='gray', facecolor='none', linestyle=(0, (1, 10)))\n",
    "ax.add_patch(rect1)\n",
    "\n",
    "device_coords = np.transpose([d1_coord, d2_coord, d3_coord, d4_coord])\n",
    "ax.plot(*device_coords, marker=\"^\", color=\"#2E294E\", linestyle='None', label=\"Uberteeth\")\n",
    "\n",
    "measurement_points = np.transpose([p1_coord, p2_coord, p3_coord, \n",
    "                                   p4_coord, p5_coord, p6_coord, \n",
    "                                   p7_coord, p8_coord, p9_coord])\n",
    "\n",
    "ax.plot(*measurement_points, marker=\"x\", color=\"#D7263D\", label=\"Static Measurements\", linestyle='None')\n",
    "lgd = plt.legend(bbox_to_anchor=(0.5, 1), loc=\"upper center\", ncol=1)\n",
    "file = f\"{results_dir}measurements.png\"\n",
    "print(f'saving file {file}')\n",
    "plt.savefig(file, bbox_inches='tight', dpi=300)\n",
    "plt.show()"
   ]
  },
  {
   "cell_type": "code",
   "execution_count": null,
   "metadata": {
    "pycharm": {
     "name": "#%%\n"
    }
   },
   "outputs": [],
   "source": [
    "x = np.arange(0.001, 5, 0.01)\n",
    "extx = -30\n",
    "exn = 1.8\n",
    "def path_loss(d, tx_offset=0, d_offset=0):\n",
    "    try:\n",
    "        return extx + tx_offset - 10 * exn * log10(d + d_offset)\n",
    "    except ValueError:\n",
    "        return None\n",
    "def path_loss_tx_offset(d):\n",
    "    return path_loss(d, tx_offset=-3)\n",
    "def path_loss_d_offset(d):\n",
    "    return path_loss(d, d_offset=-0.3)\n",
    "\n",
    "y = list(map(path_loss, x))\n",
    "ytxo = list(map(path_loss_tx_offset, x))\n",
    "ydo = list(map(path_loss_d_offset, x))\n",
    "plt.plot(x, y, label=\"No Offset\")\n",
    "plt.plot(x, ytxo, color=\"orange\", label=\"Tx Offset = -3\")\n",
    "plt.plot(x, ydo, color=\"green\", label=\"Dist Offset = -0.3\")\n",
    "plt.xlabel(\"Distance\")\n",
    "plt.ylabel(\"RSSI\")\n",
    "plt.title(\"Distance vs. RSSI for n=1.8, tx=-30\")\n",
    "plt.legend(loc='upper right', ncol=1)\n",
    "plt.savefig(\"RSSIvsDist_ex.png\", bbox_inches='tight', dpi=300)\n",
    "plt.show()\n"
   ]
  },
  {
   "cell_type": "code",
   "execution_count": null,
   "metadata": {
    "pycharm": {
     "name": "#%%\n"
    }
   },
   "outputs": [],
   "source": [
    "kalman_ex = filter_and_smooth_kalman(dfs8[3], \"signal\", \"10s\", filter_outliers=True).rename(columns={\"signal\": \"filtered\"})\n",
    "ax = dfs8[3].plot(kind=\"line\", x=\"timestamp\", y=\"signal\")\n",
    "kalman_ex.plot(kind=\"line\", x=\"timestamp\", y=\"filtered\", color=\"red\", ax=ax)\n",
    "plt.savefig(\"rssi_filtered_ex.png\", bbox_inches='tight', dpi=300)"
   ]
  },
  {
   "cell_type": "code",
   "execution_count": null,
   "metadata": {
    "pycharm": {
     "name": "#%%\n"
    }
   },
   "outputs": [],
   "source": [
    "kalman_ex = filter_and_smooth_max(dfs8[3], \"signal\", \"20s\").rename(columns={\"signal\": \"filtered\"})\n",
    "ax = dfs8[3].plot(kind=\"line\", x=\"timestamp\", y=\"signal\")\n",
    "kalman_ex.plot(kind=\"line\", x=\"timestamp\", y=\"filtered\", color=\"red\" , ax=ax)\n",
    "plt.savefig(\"rssi_filtered_ex.png\", bbox_inches='tight', dpi=300)"
   ]
  },
  {
   "cell_type": "markdown",
   "metadata": {},
   "source": [
    "## Let's try filtering this\n"
   ]
  },
  {
   "cell_type": "code",
   "execution_count": null,
   "metadata": {
    "pycharm": {
     "name": "#%%\n"
    }
   },
   "outputs": [],
   "source": [
    "def filter_dfs_max_median(dfs):\n",
    "    return list(map(lambda df: filter_and_smooth_max_median(df, \"signal\", \"10s\"), dfs))\n",
    "\n",
    "def filter_dfs_kalman(dfs):\n",
    "    return list(map(lambda df: filter_and_smooth_kalman(df, \"signal\", \"10s\", filter_outliers=False), dfs))\n",
    "\n",
    "# filtered = filter_dfs_max_median(dfs8)\n",
    "filtered = filter_dfs_kalman(dfs8)"
   ]
  },
  {
   "cell_type": "code",
   "execution_count": null,
   "metadata": {
    "pycharm": {
     "name": "#%%\n"
    }
   },
   "outputs": [],
   "source": [
    "def plot_signals(dfs, filtered):\n",
    "    for i in range(1,5):\n",
    "        plot_rssi_2(dfs[i-1], filtered[i-1], \"d\" + str(i))\n",
    "\n",
    "plot_signals(dfs8, filtered)\n",
    "# plot_signals(dfs8, filtered_kalman)\n"
   ]
  },
  {
   "cell_type": "markdown",
   "metadata": {},
   "source": [
    "## Let's describe the signal values for these devices. There should be notable differences\n",
    "\n",
    "For P8, the following should be true for the mean signal strenght:\n",
    "* d1 should be highest\n",
    "* d2 should be second\n",
    "* d3 should be third\n",
    "* d4 should be fourth\n"
   ]
  },
  {
   "cell_type": "code",
   "execution_count": null,
   "metadata": {
    "pycharm": {
     "name": "#%%\n"
    }
   },
   "outputs": [],
   "source": [
    "def print_signal_stats(dfs):\n",
    "    for i in range(1,5):\n",
    "        print(\"d\" + str(i))\n",
    "        print(dfs[i-1][\"signal\"].describe())\n",
    "        print(\"\")\n"
   ]
  },
  {
   "cell_type": "code",
   "execution_count": null,
   "metadata": {
    "pycharm": {
     "name": "#%%\n"
    }
   },
   "outputs": [],
   "source": [
    "print_signal_stats(filtered)\n"
   ]
  },
  {
   "cell_type": "markdown",
   "metadata": {},
   "source": [
    "As we can see, our theories don't hold yet for the order of d1 and d2, but do for the rest\n",
    "\n",
    "Let's also try a different filtering method\n"
   ]
  },
  {
   "cell_type": "code",
   "execution_count": null,
   "metadata": {
    "pycharm": {
     "name": "#%%\n"
    }
   },
   "outputs": [],
   "source": [
    "def filter_dfs_max_mean(dfs):\n",
    "    return list(map(lambda df: filter_and_smooth_max(df, \"signal\", \"20s\"), dfs))\n",
    "\n",
    "filtered_mean = filter_dfs_max_mean(dfs8)\n"
   ]
  },
  {
   "cell_type": "code",
   "execution_count": null,
   "metadata": {
    "pycharm": {
     "name": "#%%\n"
    }
   },
   "outputs": [],
   "source": [
    "plot_signals(dfs8, filtered_mean)\n"
   ]
  },
  {
   "cell_type": "code",
   "execution_count": null,
   "metadata": {
    "pycharm": {
     "name": "#%%\n"
    }
   },
   "outputs": [],
   "source": [
    "print_signal_stats(filtered_mean)\n"
   ]
  },
  {
   "cell_type": "markdown",
   "metadata": {},
   "source": [
    "Let's try another one\n"
   ]
  },
  {
   "cell_type": "code",
   "execution_count": null,
   "metadata": {
    "pycharm": {
     "name": "#%%\n"
    }
   },
   "outputs": [],
   "source": [
    "# def filter_dfs_mean(dfs):\n",
    "#     return list(map(lambda df: filter_and_smooth_mean(df, \"signal\", \"10s\"), dfs))\n",
    "#\n",
    "# filtered_mean = filter_dfs_mean(dfs8)\n"
   ]
  },
  {
   "cell_type": "code",
   "execution_count": null,
   "metadata": {
    "pycharm": {
     "name": "#%%\n"
    }
   },
   "outputs": [],
   "source": [
    "# plot_signals(dfs8, filtered_mean)\n"
   ]
  },
  {
   "cell_type": "code",
   "execution_count": null,
   "metadata": {
    "pycharm": {
     "name": "#%%\n"
    }
   },
   "outputs": [],
   "source": [
    "# print_signal_stats(filtered_mean)\n"
   ]
  },
  {
   "cell_type": "markdown",
   "metadata": {},
   "source": [
    "Now this looks quite different.\n",
    "\n",
    "We should try this filtering method as well when trying to quadlaterate. \n",
    "Maybe also try to adjust the parameters a bit...\n"
   ]
  },
  {
   "cell_type": "markdown",
   "metadata": {},
   "source": [
    "## Now, reindex\n",
    "and plot the resulting dfs\n"
   ]
  },
  {
   "cell_type": "code",
   "execution_count": null,
   "metadata": {
    "pycharm": {
     "name": "#%%\n"
    }
   },
   "outputs": [],
   "source": [
    "ridxr = DfReindexer(\"500ms\", \"signal\", \"timestamp\")\n",
    "filtered_mean_ri = ridxr.reindex_dfs(*filtered_mean)\n",
    "filtered_ri = ridxr.reindex_dfs(*filtered)\n"
   ]
  },
  {
   "cell_type": "code",
   "execution_count": null,
   "metadata": {
    "pycharm": {
     "name": "#%%\n"
    }
   },
   "outputs": [],
   "source": [
    "plot_signals(dfs8, filtered_mean_ri)\n"
   ]
  },
  {
   "cell_type": "code",
   "execution_count": null,
   "metadata": {
    "pycharm": {
     "name": "#%%\n"
    }
   },
   "outputs": [],
   "source": [
    "plot_signals(dfs8, filtered_ri)\n"
   ]
  },
  {
   "cell_type": "code",
   "execution_count": null,
   "metadata": {
    "pycharm": {
     "name": "#%%\n"
    }
   },
   "outputs": [],
   "source": [
    "# del(filtered_max_mean)\n",
    "# del(filtered_mean)\n",
    "# del(filtered)\n"
   ]
  },
  {
   "cell_type": "markdown",
   "metadata": {},
   "source": [
    "## Merge the dfs\n"
   ]
  },
  {
   "cell_type": "code",
   "execution_count": null,
   "metadata": {
    "pycharm": {
     "name": "#%%\n"
    }
   },
   "outputs": [],
   "source": [
    "mrgr = DfMerger(\"signal\", \"timestamp\")\n",
    "filtered_mrgd = mrgr.merge_dfs(filtered_ri)\n",
    "filtered_mean_mrgd = mrgr.merge_dfs(filtered_mean_ri)\n"
   ]
  },
  {
   "cell_type": "code",
   "execution_count": null,
   "metadata": {
    "pycharm": {
     "name": "#%%\n"
    }
   },
   "outputs": [],
   "source": [
    "quad = BpQuadlateration(d1_coord, d2_coord, d3_coord, d4_coord, 1.8)\n"
   ]
  },
  {
   "cell_type": "code",
   "execution_count": null,
   "metadata": {
    "pycharm": {
     "name": "#%%\n"
    }
   },
   "outputs": [],
   "source": [
    "def quadlaterate(row):\n",
    "    return quad.quadlaterate(row[\"signal1\"], row[\"signal2\"], row[\"signal3\"], row[\"signal4\"]).x\n",
    "\n",
    "filtered_mrgd[\"pos_res\"] = filtered_mrgd.apply(quadlaterate, axis=1)\n",
    "filtered_mean_mrgd[\"pos_res\"] = filtered_mean_mrgd.apply(quadlaterate, axis=1)\n"
   ]
  },
  {
   "cell_type": "code",
   "execution_count": null,
   "metadata": {
    "pycharm": {
     "name": "#%%\n"
    }
   },
   "outputs": [],
   "source": [
    "def split_pos_res_column(df):\n",
    "    df[\"x\"], df[\"y\"], df[\"tx\"] = zip(*df['pos_res'])\n",
    "    \n",
    "split_pos_res_column(filtered_mrgd)\n",
    "split_pos_res_column(filtered_mean_mrgd)\n"
   ]
  },
  {
   "cell_type": "code",
   "execution_count": null,
   "metadata": {
    "pycharm": {
     "name": "#%%\n"
    }
   },
   "outputs": [],
   "source": [
    "ax = filtered_mean_mrgd.plot(kind=\"scatter\", x=\"x\", y=\"y\", xlim = (0, 4.2), ylim=(0, 2.9), c=np.arange(len(filtered_mean_mrgd)), cmap='viridis', alpha=0.5)\n",
    "plt.plot(*p8_coord, marker=\"x\", color=\"red\")"
   ]
  },
  {
   "cell_type": "code",
   "execution_count": null,
   "metadata": {
    "pycharm": {
     "name": "#%%\n"
    }
   },
   "outputs": [],
   "source": [
    "filtered_mrgd.plot(kind=\"scatter\", x=\"x\", y=\"y\", xlim = (0, 4.2), ylim=(0, 2.9), c=np.arange(len(filtered_mrgd)), cmap='viridis', alpha=0.5)\n",
    "plt.plot(*p8_coord, marker=\"x\", color=\"red\")"
   ]
  },
  {
   "cell_type": "markdown",
   "metadata": {},
   "source": [
    "### Let's also try Kalman filtering this"
   ]
  },
  {
   "cell_type": "code",
   "execution_count": null,
   "metadata": {
    "pycharm": {
     "name": "#%%\n"
    }
   },
   "outputs": [],
   "source": [
    "from filterpy.common import Q_discrete_white_noise\n",
    "from filterpy.kalman import ExtendedKalmanFilter"
   ]
  },
  {
   "cell_type": "code",
   "execution_count": null,
   "metadata": {
    "pycharm": {
     "name": "#%%\n"
    }
   },
   "outputs": [],
   "source": [
    "dt = 0.5\n",
    "rk = ExtendedKalmanFilter(dim_x=3, dim_z=4)\n",
    "\n",
    "def get_Hi(i, n):\n",
    "    xi, yi = i\n",
    "    def Hi_at(s):\n",
    "        x, y, tx = s\n",
    "        dh_by_dx = -10 * n * (x - xi) / (log(10) * ((x - xi)**2 + (y - yi)**2))\n",
    "        dh_by_dy = -10 * n * (y - yi) / (log(10) * ((x - xi)**2 + (y - yi)**2))\n",
    "        dh_by_dtx = 1\n",
    "        return np.array([dh_by_dx, dh_by_dy, dh_by_dtx])\n",
    "    return Hi_at\n",
    "\n",
    "n=1.8\n",
    "        \n",
    "H_at = [get_Hi(d1_coord, n), get_Hi(d2_coord, n), get_Hi(d3_coord, n), get_Hi(d4_coord, n)]\n",
    "\n",
    "def HJacobian_at(s):\n",
    "    return np.array([H_at[0](s), H_at[1](s), H_at[2](s), H_at[3](s)])\n",
    "\n",
    "def get_hi(i, n):\n",
    "    xi, yi = i\n",
    "    def hi_at(s):\n",
    "        x, y, tx = s\n",
    "        return tx - 10 * n * log10(sqrt((x - xi)**2 + (y - yi)**2))\n",
    "    return hi_at\n",
    "    \n",
    "h_at = [get_hi(d1_coord, n), get_hi(d2_coord, n), get_hi(d3_coord, n), get_hi(d4_coord, n)]\n",
    "\n",
    "def hs_at(s):\n",
    "    return np.array([h_at[0](s), h_at[1](s), h_at[2](s), h_at[3](s)])\n",
    "\n",
    "# according to the cc2400 precision\n",
    "rss_std = 4\n",
    "rss_std_sq = rss_std ** 2\n",
    "\n",
    "rk.Q[0:2, 0:2] = Q_discrete_white_noise(2, dt=dt, var=0.1)\n",
    "rk.Q[2, 2] = 1\n",
    "\n",
    "# rk.Q = np.eye(3) * 0.1\n",
    "\n",
    "rk.R = np.eye(4) * rss_std_sq\n",
    "\n",
    "rk.x = np.array([1.5, 1.5, -20])\n",
    "rk.F = np.eye(3)\n",
    "\n",
    "rk.P = np.array([[2, 0, 0],\n",
    "                 [0, 2, 0],\n",
    "                 [0, 0, 20]])\n",
    "\n",
    "def kalman(row):\n",
    "    rk.predict_update(np.array([row[\"signal1\"], row[\"signal2\"], row[\"signal3\"], row[\"signal4\"]]), HJacobian_at, hs_at)\n",
    "    return rk.x\n",
    "\n",
    "res = filtered_mrgd.dropna().apply(kalman, axis=1)\n",
    "\n",
    "def split5(x):\n",
    "    return x[0], x[1], x[2]\n",
    "\n",
    "def split_res_column(series):\n",
    "    df = pd.DataFrame()\n",
    "    df[\"kalman_x\"], df[\"kalman_y\"], df[\"kalman_tx\"] = zip(*series.map(split5))\n",
    "    return df\n",
    "\n",
    "result = split_res_column(res)"
   ]
  },
  {
   "cell_type": "code",
   "execution_count": null,
   "metadata": {
    "pycharm": {
     "name": "#%%\n"
    }
   },
   "outputs": [],
   "source": [
    "dfs8[1].signal.plot.hist(bins=50)"
   ]
  },
  {
   "cell_type": "code",
   "execution_count": null,
   "metadata": {
    "pycharm": {
     "name": "#%%\n"
    }
   },
   "outputs": [],
   "source": [
    "filtered[1].signal.plot.hist(bins=50)"
   ]
  },
  {
   "cell_type": "code",
   "execution_count": null,
   "metadata": {
    "pycharm": {
     "name": "#%%\n"
    }
   },
   "outputs": [],
   "source": [
    "result.plot(kind=\"scatter\", x=\"kalman_x\", y=\"kalman_y\", xlim = (0, 4.2), ylim=(0, 2.9), c=np.arange(len(result)), cmap='viridis', alpha=0.5)\n",
    "plt.plot(*p8_coord, marker=\"x\", color=\"red\")\n"
   ]
  },
  {
   "cell_type": "code",
   "execution_count": null,
   "metadata": {
    "pycharm": {
     "name": "#%%\n"
    }
   },
   "outputs": [],
   "source": [
    "import math\n",
    "np.mean([258.5, 253.25, 206.25, 231.0, 299.5, 249.75, 190.75, 228.0])"
   ]
  },
  {
   "cell_type": "code",
   "execution_count": null,
   "metadata": {
    "pycharm": {
     "name": "#%%\n"
    }
   },
   "outputs": [],
   "source": [
    "np.mean([439.5, 354.75, 397.5, 334.0, 306.5, 284.0, 132.75, 285.75, 244.75])\n"
   ]
  }
 ],
 "metadata": {
  "kernelspec": {
   "display_name": "Python 3",
   "language": "python",
   "name": "python3"
  },
  "language_info": {
   "codemirror_mode": {
    "name": "ipython",
    "version": 3
   },
   "file_extension": ".py",
   "mimetype": "text/x-python",
   "name": "python",
   "nbconvert_exporter": "python",
   "pygments_lexer": "ipython3",
   "version": "3.8.0"
  }
 },
 "nbformat": 4,
 "nbformat_minor": 1
}
